{
 "cells": [
  {
   "cell_type": "markdown",
   "metadata": {
    "notebookRunGroups": {
     "groupValue": ""
    }
   },
   "source": [
    "# Broadcasting\n",
    "\n",
    "- The term broadcasting describes how NumPy treats arrays with different shapes during arithmetic operations.\n",
    "- Subject to certain constraints, the smaller array is “broadcast” across the larger array so that they have compatible shapes. \n",
    "- Broadcasting provides a means of vectorizing array operations so that looping occurs in C instead of Python. \n",
    "- It does this without making needless copies of data and usually leads to efficient algorithm implementations. \n",
    "- There are, however, cases where broadcasting is a bad idea because it leads to inefficient use of memory that slows computation.\n"
   ]
  },
  {
   "cell_type": "markdown",
   "metadata": {},
   "source": [
    "## Elementwise Operation\n",
    "\n",
    "NumPy operations are usually done on pairs of arrays on an element-by-element basis. In the simplest case, the two arrays must have exactly the same shape, as in the following example:"
   ]
  },
  {
   "cell_type": "code",
   "execution_count": 1,
   "metadata": {},
   "outputs": [
    {
     "data": {
      "text/plain": [
       "array([2., 4., 6.])"
      ]
     },
     "execution_count": 1,
     "metadata": {},
     "output_type": "execute_result"
    }
   ],
   "source": [
    "import numpy as np\n",
    "a = np.array([1.0, 2.0, 3.0])\n",
    "b = np.array([2.0, 2.0, 2.0])\n",
    "a * b"
   ]
  },
  {
   "cell_type": "markdown",
   "metadata": {},
   "source": [
    "## Simplest Broadcasting Example\n",
    "\n",
    "NumPy’s broadcasting rule relaxes this constraint when the arrays’ shapes meet certain constraints. The simplest broadcasting example occurs when an array and a scalar value are combined in an operation:"
   ]
  },
  {
   "cell_type": "code",
   "execution_count": 2,
   "metadata": {},
   "outputs": [
    {
     "data": {
      "text/plain": [
       "array([2., 4., 6.])"
      ]
     },
     "execution_count": 2,
     "metadata": {},
     "output_type": "execute_result"
    }
   ],
   "source": [
    "import numpy as np\n",
    "a = np.array([1.0, 2.0, 3.0])\n",
    "b = 2.0\n",
    "a * b"
   ]
  },
  {
   "cell_type": "markdown",
   "metadata": {},
   "source": [
    "## General Broadcasting Rules\n",
    "\n",
    "### **Rule 1**: If the two arrays differ in their number of dimensions, the shape of the one with fewer dimensions is padded with ones on its leading (left) side.\n",
    "\n",
    "```Python\n",
    "Image  (3d array): 256 x 256 x 3\n",
    "Scale  (1d array):             3\n",
    "```\n",
    "becomes\n",
    "```Python\n",
    "Image  (3d array):  256  x  256 x  3\n",
    "Scale  (1d array): [256] x [256] x 3\n",
    "Result (3d array):  256  x  256 x  3\n",
    "```\n",
    "\n",
    "Padding is indicated by []. **Note that this padding is effectively a view and does not require a memory copy.**"
   ]
  },
  {
   "cell_type": "markdown",
   "metadata": {},
   "source": [
    "### **Rule 2**: If the shape of the two arrays does not match in any dimension, the array with shape equal to 1 in that dimension is stretched to match the other shape.\n",
    "\n",
    "```Python\n",
    "A      (4d array):  8 x 1 x 6 x 1\n",
    "B      (3d array):  8 x 7 x 1 x 5\n",
    "```\n",
    "becomes\n",
    "```Python\n",
    "A      (4d array):   8  x [7] x  6  x 1\n",
    "B      (3d array):   8 x  7 x [6] x 5\n",
    "Result (4d array):   8  x  7 x  6  x 5\n",
    "```"
   ]
  },
  {
   "cell_type": "markdown",
   "metadata": {},
   "source": [
    "### **Rule 3**: If in any dimension the sizes disagree and neither is equal to 1, an error is raised.\n",
    "\n",
    "```Python\n",
    "A      (4d array):  8 x 1 x 6 x 1\n",
    "B      (3d array):      7 x 2 x 5\n",
    "```\n",
    "gives an error."
   ]
  },
  {
   "cell_type": "markdown",
   "metadata": {},
   "source": [
    "## Example"
   ]
  },
  {
   "cell_type": "code",
   "execution_count": 3,
   "metadata": {},
   "outputs": [
    {
     "name": "stdout",
     "output_type": "stream",
     "text": [
      "Shape of product (10, 3, 8, 2, 5, 10)\n"
     ]
    },
    {
     "data": {
      "text/plain": [
       "np.int64(0)"
      ]
     },
     "execution_count": 3,
     "metadata": {},
     "output_type": "execute_result"
    }
   ],
   "source": [
    "import numpy as np\n",
    "\n",
    "def generate_intersting_array(shape: tuple) -> np.ndarray:\n",
    "    \"\"\"\n",
    "    Generate unique values based on index positions\n",
    "    \n",
    "    Parameters:\n",
    "        shape (tuple): The shape of the desired N-dimensional array.\n",
    "        \n",
    "    Returns:\n",
    "        numpy.ndarray: The generated array with unique hash values.\n",
    "    \"\"\"\n",
    "    return np.fromfunction(\n",
    "        lambda *indices: sum(shape[i + 1] * index for i, index in enumerate(indices[:-1])) + indices[-1],\n",
    "        shape,\n",
    "        dtype=int\n",
    "    )\n",
    "\n",
    "\n",
    "A = generate_intersting_array((10, 3, 8, 2, 5,  1))\n",
    "B = generate_intersting_array((       8, 1, 5, 10))\n",
    "\n",
    "print(\"Shape of product\", (A*B).shape)\n",
    "np.sum((B*A)-(A*B))"
   ]
  },
  {
   "cell_type": "markdown",
   "metadata": {},
   "source": [
    "When the trailing dimensions of the arrays are unequal, broadcasting fails because it is impossible to align the values in the rows of the 1st array with the elements of the 2nd arrays for element-by-element addition."
   ]
  },
  {
   "cell_type": "code",
   "execution_count": 4,
   "metadata": {},
   "outputs": [
    {
     "ename": "TypeError",
     "evalue": "'int' object is not iterable",
     "output_type": "error",
     "traceback": [
      "\u001b[0;31m---------------------------------------------------------------------------\u001b[0m",
      "\u001b[0;31mTypeError\u001b[0m                                 Traceback (most recent call last)",
      "Cell \u001b[0;32mIn[4], line 2\u001b[0m\n\u001b[1;32m      1\u001b[0m A \u001b[38;5;241m=\u001b[39m generate_intersting_array((\u001b[38;5;241m4\u001b[39m, \u001b[38;5;241m3\u001b[39m))\n\u001b[0;32m----> 2\u001b[0m B \u001b[38;5;241m=\u001b[39m \u001b[43mgenerate_intersting_array\u001b[49m\u001b[43m(\u001b[49m\u001b[43m(\u001b[49m\u001b[43m   \u001b[49m\u001b[38;5;241;43m4\u001b[39;49m\u001b[43m)\u001b[49m\u001b[43m)\u001b[49m\n\u001b[1;32m      3\u001b[0m \u001b[38;5;28;01mtry\u001b[39;00m:\n\u001b[1;32m      4\u001b[0m     A\u001b[38;5;241m*\u001b[39mB\n",
      "Cell \u001b[0;32mIn[3], line 13\u001b[0m, in \u001b[0;36mgenerate_intersting_array\u001b[0;34m(shape)\u001b[0m\n\u001b[1;32m      3\u001b[0m \u001b[38;5;28;01mdef\u001b[39;00m\u001b[38;5;250m \u001b[39m\u001b[38;5;21mgenerate_intersting_array\u001b[39m(shape: \u001b[38;5;28mtuple\u001b[39m) \u001b[38;5;241m-\u001b[39m\u001b[38;5;241m>\u001b[39m np\u001b[38;5;241m.\u001b[39mndarray:\n\u001b[1;32m      4\u001b[0m \u001b[38;5;250m    \u001b[39m\u001b[38;5;124;03m\"\"\"\u001b[39;00m\n\u001b[1;32m      5\u001b[0m \u001b[38;5;124;03m    Generate unique values based on index positions\u001b[39;00m\n\u001b[1;32m      6\u001b[0m \u001b[38;5;124;03m    \u001b[39;00m\n\u001b[0;32m   (...)\u001b[0m\n\u001b[1;32m     11\u001b[0m \u001b[38;5;124;03m        numpy.ndarray: The generated array with unique hash values.\u001b[39;00m\n\u001b[1;32m     12\u001b[0m \u001b[38;5;124;03m    \"\"\"\u001b[39;00m\n\u001b[0;32m---> 13\u001b[0m     \u001b[38;5;28;01mreturn\u001b[39;00m \u001b[43mnp\u001b[49m\u001b[38;5;241;43m.\u001b[39;49m\u001b[43mfromfunction\u001b[49m\u001b[43m(\u001b[49m\n\u001b[1;32m     14\u001b[0m \u001b[43m        \u001b[49m\u001b[38;5;28;43;01mlambda\u001b[39;49;00m\u001b[43m \u001b[49m\u001b[38;5;241;43m*\u001b[39;49m\u001b[43mindices\u001b[49m\u001b[43m:\u001b[49m\u001b[43m \u001b[49m\u001b[38;5;28;43msum\u001b[39;49m\u001b[43m(\u001b[49m\u001b[43mshape\u001b[49m\u001b[43m[\u001b[49m\u001b[43mi\u001b[49m\u001b[43m \u001b[49m\u001b[38;5;241;43m+\u001b[39;49m\u001b[43m \u001b[49m\u001b[38;5;241;43m1\u001b[39;49m\u001b[43m]\u001b[49m\u001b[43m \u001b[49m\u001b[38;5;241;43m*\u001b[39;49m\u001b[43m \u001b[49m\u001b[43mindex\u001b[49m\u001b[43m \u001b[49m\u001b[38;5;28;43;01mfor\u001b[39;49;00m\u001b[43m \u001b[49m\u001b[43mi\u001b[49m\u001b[43m,\u001b[49m\u001b[43m \u001b[49m\u001b[43mindex\u001b[49m\u001b[43m \u001b[49m\u001b[38;5;129;43;01min\u001b[39;49;00m\u001b[43m \u001b[49m\u001b[38;5;28;43menumerate\u001b[39;49m\u001b[43m(\u001b[49m\u001b[43mindices\u001b[49m\u001b[43m[\u001b[49m\u001b[43m:\u001b[49m\u001b[38;5;241;43m-\u001b[39;49m\u001b[38;5;241;43m1\u001b[39;49m\u001b[43m]\u001b[49m\u001b[43m)\u001b[49m\u001b[43m)\u001b[49m\u001b[43m \u001b[49m\u001b[38;5;241;43m+\u001b[39;49m\u001b[43m \u001b[49m\u001b[43mindices\u001b[49m\u001b[43m[\u001b[49m\u001b[38;5;241;43m-\u001b[39;49m\u001b[38;5;241;43m1\u001b[39;49m\u001b[43m]\u001b[49m\u001b[43m,\u001b[49m\n\u001b[1;32m     15\u001b[0m \u001b[43m        \u001b[49m\u001b[43mshape\u001b[49m\u001b[43m,\u001b[49m\n\u001b[1;32m     16\u001b[0m \u001b[43m        \u001b[49m\u001b[43mdtype\u001b[49m\u001b[38;5;241;43m=\u001b[39;49m\u001b[38;5;28;43mint\u001b[39;49m\n\u001b[1;32m     17\u001b[0m \u001b[43m    \u001b[49m\u001b[43m)\u001b[49m\n",
      "File \u001b[0;32m~/miniforge3/envs/zinc/lib/python3.12/site-packages/numpy/_core/numeric.py:1916\u001b[0m, in \u001b[0;36mfromfunction\u001b[0;34m(function, shape, dtype, like, **kwargs)\u001b[0m\n\u001b[1;32m   1912\u001b[0m \u001b[38;5;28;01mif\u001b[39;00m like \u001b[38;5;129;01mis\u001b[39;00m \u001b[38;5;129;01mnot\u001b[39;00m \u001b[38;5;28;01mNone\u001b[39;00m:\n\u001b[1;32m   1913\u001b[0m     \u001b[38;5;28;01mreturn\u001b[39;00m _fromfunction_with_like(\n\u001b[1;32m   1914\u001b[0m             like, function, shape, dtype\u001b[38;5;241m=\u001b[39mdtype, \u001b[38;5;241m*\u001b[39m\u001b[38;5;241m*\u001b[39mkwargs)\n\u001b[0;32m-> 1916\u001b[0m args \u001b[38;5;241m=\u001b[39m \u001b[43mindices\u001b[49m\u001b[43m(\u001b[49m\u001b[43mshape\u001b[49m\u001b[43m,\u001b[49m\u001b[43m \u001b[49m\u001b[43mdtype\u001b[49m\u001b[38;5;241;43m=\u001b[39;49m\u001b[43mdtype\u001b[49m\u001b[43m)\u001b[49m\n\u001b[1;32m   1917\u001b[0m \u001b[38;5;28;01mreturn\u001b[39;00m function(\u001b[38;5;241m*\u001b[39margs, \u001b[38;5;241m*\u001b[39m\u001b[38;5;241m*\u001b[39mkwargs)\n",
      "File \u001b[0;32m~/miniforge3/envs/zinc/lib/python3.12/site-packages/numpy/_core/numeric.py:1829\u001b[0m, in \u001b[0;36mindices\u001b[0;34m(dimensions, dtype, sparse)\u001b[0m\n\u001b[1;32m   1745\u001b[0m \u001b[38;5;129m@set_module\u001b[39m(\u001b[38;5;124m'\u001b[39m\u001b[38;5;124mnumpy\u001b[39m\u001b[38;5;124m'\u001b[39m)\n\u001b[1;32m   1746\u001b[0m \u001b[38;5;28;01mdef\u001b[39;00m\u001b[38;5;250m \u001b[39m\u001b[38;5;21mindices\u001b[39m(dimensions, dtype\u001b[38;5;241m=\u001b[39m\u001b[38;5;28mint\u001b[39m, sparse\u001b[38;5;241m=\u001b[39m\u001b[38;5;28;01mFalse\u001b[39;00m):\n\u001b[1;32m   1747\u001b[0m \u001b[38;5;250m    \u001b[39m\u001b[38;5;124;03m\"\"\"\u001b[39;00m\n\u001b[1;32m   1748\u001b[0m \u001b[38;5;124;03m    Return an array representing the indices of a grid.\u001b[39;00m\n\u001b[1;32m   1749\u001b[0m \n\u001b[0;32m   (...)\u001b[0m\n\u001b[1;32m   1827\u001b[0m \n\u001b[1;32m   1828\u001b[0m \u001b[38;5;124;03m    \"\"\"\u001b[39;00m\n\u001b[0;32m-> 1829\u001b[0m     dimensions \u001b[38;5;241m=\u001b[39m \u001b[38;5;28;43mtuple\u001b[39;49m\u001b[43m(\u001b[49m\u001b[43mdimensions\u001b[49m\u001b[43m)\u001b[49m\n\u001b[1;32m   1830\u001b[0m     N \u001b[38;5;241m=\u001b[39m \u001b[38;5;28mlen\u001b[39m(dimensions)\n\u001b[1;32m   1831\u001b[0m     shape \u001b[38;5;241m=\u001b[39m (\u001b[38;5;241m1\u001b[39m,)\u001b[38;5;241m*\u001b[39mN\n",
      "\u001b[0;31mTypeError\u001b[0m: 'int' object is not iterable"
     ]
    }
   ],
   "source": [
    "A = generate_intersting_array((4, 3))\n",
    "B = generate_intersting_array((   4))\n",
    "try:\n",
    "    A*B\n",
    "except:\n",
    "    pass"
   ]
  },
  {
   "cell_type": "markdown",
   "metadata": {},
   "source": [
    "## Broadcasting and Matrix multiplication"
   ]
  },
  {
   "cell_type": "markdown",
   "metadata": {},
   "source": [
    "Matrix multiplication is available using:\n",
    "```Python\n",
    "numpy.matmul\n",
    "```\n",
    "or\n",
    "```Python\n",
    "@\n",
    "```\n",
    "\n",
    "Numpy also provides:\n",
    "```Python\n",
    "np.dot\n",
    "```\n",
    "\n",
    "np.dot and np.matmul/@ have the same behavior when 2d arrays are used:"
   ]
  },
  {
   "cell_type": "code",
   "execution_count": null,
   "metadata": {},
   "outputs": [
    {
     "name": "stdout",
     "output_type": "stream",
     "text": [
      "m1 shape: (4, 10) m2 shape: (4, 10)\n",
      "m1 == m2: True\n"
     ]
    }
   ],
   "source": [
    "A = generate_intersting_array((4, 3))\n",
    "B = generate_intersting_array((3, 10))\n",
    "\n",
    "m1 = A @ B\n",
    "m2 = np.dot(A, B)\n",
    "print(\"m1 shape:\", m1.shape, \"m2 shape:\", m2.shape)\n",
    "print(\"m1 == m2:\", np.allclose(m1, m2,atol=0.0))"
   ]
  },
  {
   "cell_type": "markdown",
   "metadata": {},
   "source": [
    "- For np.matmul:\n",
    "\n",
    "If either argument is N-D, N > 2, it is treated as a stack of matrices residing in the last two indexes and broadcast accordingly.\n",
    "\n",
    "- For np.dot:\n",
    "\n",
    "For 2-D arrays it is equivalent to matrix multiplication, and for 1-D arrays to inner product of vectors (without complex conjugation). For N dimensions it is a sum product over the last axis of A and the second-to-last of B."
   ]
  },
  {
   "cell_type": "code",
   "execution_count": null,
   "metadata": {},
   "outputs": [
    {
     "name": "stdout",
     "output_type": "stream",
     "text": [
      "Shape of product (5, 3, 2, 4, 10)\n",
      "Shape of product (5, 3, 2, 4, 3, 1, 10)\n"
     ]
    }
   ],
   "source": [
    "A = generate_intersting_array((5, 3, 2, 4,  3))\n",
    "B = generate_intersting_array((   3, 1, 3, 10))\n",
    "\n",
    "m1 = A @ B\n",
    "print(\"Shape of product\", m1.shape)\n",
    "\n",
    "m2 = np.dot(A, B)\n",
    "print(\"Shape of product\", m2.shape)"
   ]
  },
  {
   "cell_type": "markdown",
   "metadata": {},
   "source": [
    "## The function to rule them all: np.einsum\n",
    "\n",
    "Evaluates the Einstein summation convention on the operands.\n",
    "\n",
    "### Einsum Subscripts Notation\n",
    "\n",
    "- The subscripts string is a comma-separated list of subscript labels, where each label refers to a dimension of the corresponding operand (i, j, k, ...).\n",
    "- Whenever a label is repeated it is summed.\n",
    "- If a label appears only once, it is not summed.\n",
    "- Repeated subscript labels in one operand take the diagonal.\n",
    "- An implicit (classical Einstein summation) calculation is performed unless the explicit indicator ‘->’ is included as well as subscript labels of the precise output form."
   ]
  },
  {
   "cell_type": "markdown",
   "metadata": {},
   "source": [
    "### Transpose Example\n",
    "\n",
    "$B_{ij} = A_{ji}$"
   ]
  },
  {
   "cell_type": "code",
   "execution_count": null,
   "metadata": {},
   "outputs": [
    {
     "name": "stdout",
     "output_type": "stream",
     "text": [
      "Shape of A (4, 3) Shape of B (3, 4)\n",
      "A == B.T: True\n"
     ]
    }
   ],
   "source": [
    "A = generate_intersting_array((4,3))\n",
    "B = np.einsum('ij->ji', A)\n",
    "print(\"Shape of A\", A.shape, \"Shape of B\", B.shape)\n",
    "print(\"A == B.T:\", np.allclose(A, B.T, atol=0.0))"
   ]
  },
  {
   "cell_type": "markdown",
   "metadata": {},
   "source": [
    "### Matrix Multiplication Example\n",
    "\n",
    "$M_{jk} = \\sum_{k} A_{ik}B_{kj}$"
   ]
  },
  {
   "cell_type": "code",
   "execution_count": null,
   "metadata": {},
   "outputs": [
    {
     "name": "stdout",
     "output_type": "stream",
     "text": [
      "m1 shape (4, 10) m2 shape (4, 10)\n",
      "m1 == m2: True\n"
     ]
    },
    {
     "data": {
      "text/plain": [
       "array([[0, 0, 0, 0, 0, 0, 0, 0, 0, 0],\n",
       "       [0, 0, 0, 0, 0, 0, 0, 0, 0, 0],\n",
       "       [0, 0, 0, 0, 0, 0, 0, 0, 0, 0],\n",
       "       [0, 0, 0, 0, 0, 0, 0, 0, 0, 0]])"
      ]
     },
     "execution_count": 20,
     "metadata": {},
     "output_type": "execute_result"
    }
   ],
   "source": [
    "                            #  i,  k\n",
    "A = generate_intersting_array((4,  3))\n",
    "                            #  k,  l\n",
    "B = generate_intersting_array((3, 10))\n",
    "\n",
    "m1 = np.einsum('ik,kl->il', A, B)\n",
    "m2 = A @ B\n",
    "print(\"m1 shape\", m1.shape, \"m2 shape\", m2.shape)\n",
    "print(\"m1 == m2:\", np.allclose(m1, m2,atol=0.0))"
   ]
  },
  {
   "cell_type": "markdown",
   "metadata": {},
   "source": [
    "### Broadcasting Example + Matrix Multiplication"
   ]
  },
  {
   "cell_type": "code",
   "execution_count": null,
   "metadata": {},
   "outputs": [
    {
     "name": "stdout",
     "output_type": "stream",
     "text": [
      "m1 shape (5, 8, 3, 4, 4) m2 shape (5, 8, 3, 4, 4) m3 shape (5, 8, 3, 4, 4)\n",
      "m1 == m2: True , m1 == m3: True\n"
     ]
    }
   ],
   "source": [
    "\n",
    "A = generate_intersting_array((5, 8, 3, 4, 3))\n",
    "B = generate_intersting_array((   8, 1, 3, 4))\n",
    "\n",
    "m1 = np.einsum('ijklm,jkmn->ijkln', A, B)\n",
    "m2 = np.einsum('...lm,...mn->...ln', A, B)\n",
    "m3 = A @ B\n",
    "print(\"m1 shape\", m1.shape, \"m2 shape\", m2.shape, \"m3 shape\", m3.shape)\n",
    "print(\"m1 == m2:\", np.allclose(m1, m2,atol=0.0), \", m1 == m3:\", np.allclose(m1, m3,atol=0.0))\n"
   ]
  },
  {
   "cell_type": "markdown",
   "metadata": {},
   "source": [
    "### Trace Example"
   ]
  },
  {
   "cell_type": "code",
   "execution_count": null,
   "metadata": {},
   "outputs": [
    {
     "name": "stdout",
     "output_type": "stream",
     "text": [
      "A_trace.shape ()\n",
      "A_trace == np.trace(A): True\n",
      "[ 0  5 10 15] 30\n"
     ]
    }
   ],
   "source": [
    "A = generate_intersting_array((4, 4))\n",
    "A_trace = np.einsum('ii->', A)\n",
    "print(\"A_trace.shape\", A_trace.shape)\n",
    "print(\"A_trace == np.trace(A):\", np.allclose(A_trace, np.trace(A), atol=0.0))"
   ]
  },
  {
   "cell_type": "markdown",
   "metadata": {},
   "source": [
    "### Transpose Example"
   ]
  },
  {
   "cell_type": "code",
   "execution_count": null,
   "metadata": {},
   "outputs": [
    {
     "name": "stdout",
     "output_type": "stream",
     "text": [
      "A.shape (4, 10) A_transpose.shape (10, 4)\n",
      "A == A_transpose.T: True\n"
     ]
    }
   ],
   "source": [
    "A = generate_intersting_array((4, 10))\n",
    "A_transpose = np.einsum('ij->ji', A)\n",
    "print(\"A.shape\", A.shape, \"A_transpose.shape\", A_transpose.shape)\n",
    "print(\"A == A_transpose.T:\", np.allclose(A, A_transpose.T, atol=0.0))"
   ]
  },
  {
   "cell_type": "markdown",
   "metadata": {},
   "source": [
    "## Phase shift Math Example: np.einsum"
   ]
  },
  {
   "cell_type": "code",
   "execution_count": null,
   "metadata": {},
   "outputs": [
    {
     "name": "stdout",
     "output_type": "stream",
     "text": [
      "uvw_rotmat_1.shape (100000, 3, 3) uvw_rotmat_2.shape (100000, 3, 3) uvw_rotmat_3.shape (100000, 3, 3)\n",
      "uvw_rotmat_1 == uvw_rotmat_2: True , uvw_rotmat_1 == uvw_rotmat_3: True\n"
     ]
    }
   ],
   "source": [
    "time = 100000\n",
    "rotmat_new_phase_direction = generate_intersting_array((3,3)) #[3 x 3]\n",
    "rotmat_field_phase_direction = generate_intersting_array((time, 3, 3))  #[3]\n",
    "\n",
    "# (3,3)@(time, 3, 3) -> (time, 3, 3) and transpose per time step.\n",
    "\n",
    "uvw_rotmat_1 = np.matmul(rotmat_new_phase_direction, rotmat_field_phase_direction).transpose([0,2,1]) \n",
    " \n",
    "uvw_rotmat_2 = np.einsum('ij,tjk->tik', rotmat_new_phase_direction, rotmat_field_phase_direction).transpose([0,2,1]) \n",
    " \n",
    "uvw_rotmat_3 = np.einsum(\"ij,tjk->tki\", rotmat_new_phase_direction, rotmat_field_phase_direction) \n",
    "\n",
    "print(\"uvw_rotmat_1.shape\", uvw_rotmat_1.shape, \"uvw_rotmat_2.shape\", uvw_rotmat_2.shape, \"uvw_rotmat_3.shape\", uvw_rotmat_3.shape)\n",
    "print(\"uvw_rotmat_1 == uvw_rotmat_2:\", np.allclose(uvw_rotmat_1, uvw_rotmat_2, atol=0.0), \", uvw_rotmat_1 == uvw_rotmat_3:\", np.allclose(uvw_rotmat_1, uvw_rotmat_3, atol=0.0))\n"
   ]
  },
  {
   "cell_type": "code",
   "execution_count": null,
   "metadata": {},
   "outputs": [
    {
     "name": "stdout",
     "output_type": "stream",
     "text": [
      "(100, 1000, 1) (100, 1, 3, 1)\n",
      "phase_direction_1.shape (100, 1000) phase_direction_2.shape (100, 1000)\n",
      "phase_direction_1 == phase_direction_2: True\n"
     ]
    }
   ],
   "source": [
    "time = 100\n",
    "baseline = 1000\n",
    "uvw = generate_intersting_array((time, baseline, 3))\n",
    "phase_rotation = generate_intersting_array((time, 3))\n",
    "\n",
    "# Use None to add singleton dimension to phase_rotation: (time, 3) -> (time, 1, 3, 1) \n",
    "phase_direction_1 = np.matmul(uvw, phase_rotation[..., None]).squeeze(-1)\n",
    "print(np.matmul(uvw, phase_rotation[..., None]).shape, phase_rotation[:, None, :, None].shape)\n",
    "\n",
    "phase_direction_2 = np.einsum(\n",
    "    \" ijk, ik -> ij\",\n",
    "    uvw, phase_rotation\n",
    ")# (time, baseline, 3), (time, 3) -> (time, baseline)\n",
    "\n",
    "print(\"phase_direction_1.shape\", phase_direction_1.shape, \"phase_direction_2.shape\", phase_direction_2.shape)\n",
    "print(\"phase_direction_1 == phase_direction_2:\", np.allclose(phase_direction_1, phase_direction_2, atol=0.0))"
   ]
  }
 ],
 "metadata": {
  "kernelspec": {
   "display_name": "zinc",
   "language": "python",
   "name": "python3"
  },
  "language_info": {
   "codemirror_mode": {
    "name": "ipython",
    "version": 3
   },
   "file_extension": ".py",
   "mimetype": "text/x-python",
   "name": "python",
   "nbconvert_exporter": "python",
   "pygments_lexer": "ipython3",
   "version": "3.12.8"
  }
 },
 "nbformat": 4,
 "nbformat_minor": 2
}
