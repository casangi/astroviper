{
 "cells": [
  {
   "cell_type": "markdown",
   "metadata": {},
   "source": [
    "# Cupy Tutorial"
   ]
  },
  {
   "cell_type": "markdown",
   "metadata": {},
   "source": [
    "## Cupy Specific Function: Scatter Add\n",
    "\n",
    "https://docs.cupy.dev/en/stable/reference/ext.html"
   ]
  },
  {
   "cell_type": "code",
   "execution_count": 1,
   "metadata": {},
   "outputs": [
    {
     "name": "stdout",
     "output_type": "stream",
     "text": [
      "\n",
      "Array after scatter add operation 0:\n",
      "[484.18228 535.9695  489.6193  500.85852 505.03873 500.55252 508.4838\n",
      " 481.9326  495.263   472.4387 ]\n",
      "\n",
      "Array after scatter add operation 1:\n",
      "[484.1823  535.9696  489.61935 500.8586  505.0389  500.55258 508.4836\n",
      " 481.9327  495.263   472.439  ]\n",
      "\n",
      "Difference between scatter add 0 and 1:\n",
      "[-3.0517578e-05 -1.2207031e-04 -6.1035156e-05 -9.1552734e-05\n",
      " -1.8310547e-04 -6.1035156e-05  1.8310547e-04 -1.2207031e-04\n",
      "  0.0000000e+00 -3.0517578e-04]\n",
      "Oh no, there is a difference!!!\n"
     ]
    }
   ],
   "source": [
    "# Import necessary libraries\n",
    "import cupy as cp\n",
    "import numpy as np\n",
    "import cupyx as cpx\n",
    "\n",
    "# Set array size\n",
    "array_size = 10000\n",
    "result_array_size = 10\n",
    "\n",
    "# Generate random values and indices\n",
    "values = np.random.rand(array_size).astype(np.float32)\n",
    "indices = np.random.randint(0, result_array_size, size=array_size, dtype=np.int32)\n",
    "\n",
    "# Create Cupy arrays\n",
    "gpu_values = cp.array(values)\n",
    "gpu_indices = cp.array(indices)\n",
    "gpu_result_scatter_add_0 = cp.zeros(result_array_size, dtype=np.float32)\n",
    "gpu_result_scatter_add_1 = cp.zeros(result_array_size, dtype=np.float32)\n",
    "\n",
    "# Use cupyx.scatter_add to perform scatter add\n",
    "cpx.scatter_add(gpu_result_scatter_add_0, gpu_indices, gpu_values)\n",
    "cpx.scatter_add(gpu_result_scatter_add_1, gpu_indices, gpu_values)\n",
    "cp.cuda.stream.get_current_stream().synchronize()\n",
    "\n",
    "# Transfer GPU result array back to NumPy\n",
    "result_array_scatter_add_0 = gpu_result_scatter_add_0.get()\n",
    "result_array_scatter_add_1 = gpu_result_scatter_add_1.get()\n",
    "\n",
    "# Print the result\n",
    "print(\"\\nArray after scatter add operation 0:\")\n",
    "print(result_array_scatter_add_0)\n",
    "\n",
    "print(\"\\nArray after scatter add operation 1:\")\n",
    "print(result_array_scatter_add_1)\n",
    "\n",
    "print(\"\\nDifference between scatter add 0 and 1:\")\n",
    "print(result_array_scatter_add_0 - result_array_scatter_add_1)\n",
    "print(\"Oh no, there is a difference!!!\")"
   ]
  },
  {
   "cell_type": "markdown",
   "metadata": {},
   "source": [
    "## Custom Kernels: Atomic Add\n",
    "\n",
    "https://docs.cupy.dev/en/stable/reference/kernel.html"
   ]
  },
  {
   "cell_type": "code",
   "execution_count": 2,
   "metadata": {},
   "outputs": [
    {
     "name": "stdout",
     "output_type": "stream",
     "text": [
      "\n",
      "Array after atomic add operation:\n",
      "[484.1824  535.96936 489.61902 500.85855 505.03894 500.55267 508.48392\n",
      " 481.93298 495.2631  472.43887]\n",
      "\n",
      "Array after atomic add operation:\n",
      "[484.18277 535.9696  489.6193  500.8587  505.03888 500.55255 508.48395\n",
      " 481.93256 495.26318 472.4389 ]\n",
      "\n",
      "Difference between atomic add 0 and 1:\n",
      "[-3.6621094e-04 -2.4414062e-04 -2.7465820e-04 -1.5258789e-04\n",
      "  6.1035156e-05  1.2207031e-04 -3.0517578e-05  4.2724609e-04\n",
      " -9.1552734e-05 -3.0517578e-05]\n",
      "Oh no, there is a difference!!!\n",
      "\n",
      "Difference atomic add 0 and scatter add 0:\n",
      "[-1.2207031e-04  1.2207031e-04  2.7465820e-04 -3.0517578e-05\n",
      " -2.1362305e-04 -1.5258789e-04 -1.2207031e-04 -3.9672852e-04\n",
      " -9.1552734e-05 -1.8310547e-04]\n",
      "Oh no, there is a difference!!!\n"
     ]
    }
   ],
   "source": [
    "# Import necessary libraries\n",
    "import cupy as cp\n",
    "import numpy as np\n",
    "\n",
    "# Set up a simple kernel function to demonstrate atomic add\n",
    "kernel_code = \"\"\"\n",
    "extern \"C\"\n",
    "__global__ void scatter_add_example_kernel(float* result, const float* values, const int* indices, int n) {\n",
    "    int idx = blockIdx.x * blockDim.x + threadIdx.x;\n",
    "    if (idx < n) {\n",
    "        atomicAdd(&result[indices[idx]], values[idx]);\n",
    "    }\n",
    "}\n",
    "\"\"\"\n",
    "\n",
    "# Compile the kernel\n",
    "kernel = cp.RawKernel(kernel_code, \"scatter_add_example_kernel\")\n",
    "\n",
    "# Create Cupy arrays\n",
    "gpu_result_atomic_add_0 = cp.zeros(result_array_size, dtype=np.float32)\n",
    "gpu_result_atomic_add_1 = cp.zeros(result_array_size, dtype=np.float32)\n",
    "\n",
    "# Set up grid and block dimensions for the kernel launch\n",
    "block_size = 256\n",
    "grid_size = (array_size + block_size - 1) // block_size\n",
    "\n",
    "# Launch the kernel\n",
    "kernel(\n",
    "    (grid_size,),\n",
    "    (block_size,),\n",
    "    (gpu_result_atomic_add_0, gpu_values, gpu_indices, array_size),\n",
    ")\n",
    "kernel(\n",
    "    (grid_size,),\n",
    "    (block_size,),\n",
    "    (gpu_result_atomic_add_1, gpu_values, gpu_indices, array_size),\n",
    ")\n",
    "cp.cuda.stream.get_current_stream().synchronize()\n",
    "\n",
    "# Transfer GPU result array back to NumPy\n",
    "result_array_atomic_add_0 = gpu_result_atomic_add_0.get()\n",
    "result_array_atomic_add_1 = gpu_result_atomic_add_1.get()\n",
    "\n",
    "print(\"\\nArray after atomic add operation:\")\n",
    "print(result_array_atomic_add_0)\n",
    "\n",
    "print(\"\\nArray after atomic add operation:\")\n",
    "print(result_array_atomic_add_1)\n",
    "\n",
    "print(\"\\nDifference between atomic add 0 and 1:\")\n",
    "print(result_array_atomic_add_0 - result_array_atomic_add_1)\n",
    "print(\"Oh no, there is a difference!!!\")\n",
    "\n",
    "print(\"\\nDifference atomic add 0 and scatter add 0:\")\n",
    "print(result_array_scatter_add_0 - result_array_atomic_add_0)\n",
    "print(\"Oh no, there is a difference!!!\")"
   ]
  },
  {
   "cell_type": "markdown",
   "metadata": {},
   "source": [
    "## Grid and Block Size\n",
    "\n",
    "- https://www.microway.com/hpc-tech-tips/cuda-parallel-thread-management/\n",
    "- https://docs.nvidia.com/cuda/cuda-c-programming-guide/index.html#abstract\n",
    "- https://docs.nvidia.com/cuda/cuda-c-programming-guide/index.html#execution-configuration\n"
   ]
  }
 ],
 "metadata": {
  "kernelspec": {
   "display_name": "zinc",
   "language": "python",
   "name": "python3"
  },
  "language_info": {
   "codemirror_mode": {
    "name": "ipython",
    "version": 3
   },
   "file_extension": ".py",
   "mimetype": "text/x-python",
   "name": "python",
   "nbconvert_exporter": "python",
   "pygments_lexer": "ipython3",
   "version": "3.11.7"
  }
 },
 "nbformat": 4,
 "nbformat_minor": 2
}
