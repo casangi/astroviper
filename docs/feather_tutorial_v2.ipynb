{
 "cells": [
  {
   "cell_type": "markdown",
   "id": "f9bfc773-a9b3-4228-949c-9160bfe51721",
   "metadata": {},
   "source": [
    "<h1>Feather Tutorial</h1>"
   ]
  },
  {
   "cell_type": "code",
   "execution_count": 1,
   "id": "c5aa2bb4",
   "metadata": {},
   "outputs": [
    {
     "name": "stdout",
     "output_type": "stream",
     "text": [
      "[\u001b[38;2;128;05;128m2025-03-07 10:48:29,310\u001b[0m] \u001b[38;2;50;50;205m    INFO\u001b[0m\u001b[38;2;112;128;144m    viperlog: \u001b[0m \u001b[38;2;46;139;87mChecking functions availability:\u001b[0m \n",
      "[\u001b[38;2;128;05;128m2025-03-07 10:48:29,310\u001b[0m] \u001b[38;2;50;50;205m    INFO\u001b[0m\u001b[38;2;112;128;144m    viperlog: \u001b[0m Loading module: slurm -- Success \n",
      "[\u001b[38;2;128;05;128m2025-03-07 10:48:29,311\u001b[0m] \u001b[38;2;50;50;205m    INFO\u001b[0m\u001b[38;2;112;128;144m    viperlog: \u001b[0m    \u001b[38;2;50;50;205mdask_jobqueue\u001b[0m is available \n",
      "[\u001b[38;2;128;05;128m2025-03-07 10:48:29,311\u001b[0m] \u001b[38;2;50;50;205m    INFO\u001b[0m\u001b[38;2;112;128;144m    viperlog: \u001b[0m Loading module: dask_ssh -- Fail \n",
      "[\u001b[38;2;128;05;128m2025-03-07 10:48:29,311\u001b[0m] \u001b[38;2;50;50;205m    INFO\u001b[0m\u001b[38;2;112;128;144m    viperlog: \u001b[0m    \u001b[38;2;50;50;205masyncssh\u001b[0m is unavailable \n",
      "[\u001b[38;2;128;05;128m2025-03-07 10:48:29,311\u001b[0m] \u001b[38;2;50;50;205m    INFO\u001b[0m\u001b[38;2;112;128;144m    viperlog: \u001b[0m    \u001b[38;2;50;50;205mjupyter_server_proxy\u001b[0m is unavailable \n",
      "[\u001b[38;2;128;05;128m2025-03-07 10:48:29,311\u001b[0m] \u001b[38;2;50;50;205m    INFO\u001b[0m\u001b[38;2;112;128;144m    viperlog: \u001b[0m    \u001b[38;2;50;50;205mparamiko\u001b[0m is unavailable \n",
      "[\u001b[38;2;128;05;128m2025-03-07 10:48:29,312\u001b[0m] \u001b[38;2;50;50;205m    INFO\u001b[0m\u001b[38;2;112;128;144m    viperlog: \u001b[0m Loading module: CUDA -- Fail \n",
      "[\u001b[38;2;128;05;128m2025-03-07 10:48:29,312\u001b[0m] \u001b[38;2;50;50;205m    INFO\u001b[0m\u001b[38;2;112;128;144m    viperlog: \u001b[0m    \u001b[38;2;50;50;205mdask_cuda\u001b[0m is unavailable \n",
      "[\u001b[38;2;128;05;128m2025-03-07 10:48:29,312\u001b[0m] \u001b[38;2;50;50;205m    INFO\u001b[0m\u001b[38;2;112;128;144m    viperlog: \u001b[0m \u001b[38;2;46;139;87mAvailable functions of this environment\u001b[0m: slurm \n",
      "[\u001b[38;2;128;05;128m2025-03-07 10:48:29,312\u001b[0m] \u001b[38;2;50;50;205m    INFO\u001b[0m\u001b[38;2;112;128;144m    viperlog: \u001b[0m Module path: \u001b[38;2;50;50;205m/Users/jsteeb/miniforge3/envs/zinc13/lib/python3.13/site-packages/toolviper\u001b[0m \n",
      "[\u001b[38;2;128;05;128m2025-03-07 10:48:29,315\u001b[0m] \u001b[38;2;255;160;0m WARNING\u001b[0m\u001b[38;2;112;128;144m    viperlog: \u001b[0m It is recommended that the local cache directory be set using the \u001b[38;2;50;50;205mdask_local_dir\u001b[0m parameter. \n",
      "[\u001b[38;2;128;05;128m2025-03-07 10:48:30,141\u001b[0m] \u001b[38;2;46;139;87m   DEBUG\u001b[0m\u001b[38;2;112;128;144m    worker_0: \u001b[0m Logger created on worker Worker-d44e8e4d-d07b-4dba-ad2f-fc054dbe83c2,*,tcp://127.0.0.1:60194\n",
      "[\u001b[38;2;128;05;128m2025-03-07 10:48:30,141\u001b[0m] \u001b[38;2;46;139;87m   DEBUG\u001b[0m\u001b[38;2;112;128;144m    worker_1: \u001b[0m Logger created on worker Worker-40d34e3e-b992-4155-a3cb-2a79cf7288c3,*,tcp://127.0.0.1:60193\n",
      "[\u001b[38;2;128;05;128m2025-03-07 10:48:30,142\u001b[0m] \u001b[38;2;50;50;205m    INFO\u001b[0m\u001b[38;2;112;128;144m    viperlog: \u001b[0m Client <MenrvaClient: 'tcp://127.0.0.1:60186' processes=2 threads=2, memory=8.00 GiB> \n",
      "image_data_variables_and_dims {'aperture': {'dims': ['time', 'frequency', 'polarization', 'l', 'm'], 'dtype': '<c8', 'name': 'APERTURE'}, 'aperture_normalization': {'dims': ['frequency', 'polarization'], 'dtype': '<c16', 'name': 'APERTURE_NORMALIZATION'}, 'primary_beam': {'dims': ['time', 'frequency', 'polarization', 'l', 'm'], 'dtype': '<f4', 'name': 'PRIMARY_BEAM'}, 'uv_sampling': {'dims': ['time', 'frequency', 'polarization', 'l', 'm'], 'dtype': '<c8', 'name': 'UV_SAMPLING'}, 'uv_sampling_normalization': {'dims': ['frequency', 'polarization'], 'dtype': '<c16', 'name': 'UV_SAMPLING_NORMALIZATION'}, 'point_spread_function': {'dims': ['time', 'frequency', 'polarization', 'l', 'm'], 'dtype': '<f8', 'name': 'POINT_SPREAD_FUNCTION'}, 'visibility': {'dims': ['time', 'frequency', 'polarization', 'l', 'm'], 'dtype': '<c8', 'name': 'VISIBILITY'}, 'visibility_normalization': {'dims': ['frequency', 'polarization'], 'dtype': '<c16', 'name': 'VISIBILITY_NORMALIZATION'}, 'sky': {'dims': ['time', 'frequency', 'polarization', 'l', 'm'], 'dtype': '<f4', 'name': 'SKY'}}\n",
      "[\u001b[38;2;128;05;128m2025-03-07 10:50:39,749\u001b[0m] \u001b[38;2;46;139;87m   DEBUG\u001b[0m\u001b[38;2;112;128;144m    worker_1: \u001b[0m fft loop complete\n"
     ]
    },
    {
     "name": "stderr",
     "output_type": "stream",
     "text": [
      "2025-03-07 10:50:39,779 - distributed.worker - ERROR - Compute Failed\n",
      "Key:       _feather-ac8a7c04-0dcd-41b4-bb65-27689b0596e3\n",
      "State:     executing\n",
      "Task:  <Task '_feather-ac8a7c04-0dcd-41b4-bb65-27689b0596e3' _feather(...)>\n",
      "Exception: 'NameError(\"name \\'compute_u_v\\' is not defined\")'\n",
      "Traceback: '  File \"/Users/jsteeb/Dropbox/astroviper/src/astroviper/imaging/feather_v2.py\", line 172, in _feather\\n    uv = compute_u_v(sd_xds)\\n         ^^^^^^^^^^^\\n'\n",
      "\n"
     ]
    },
    {
     "ename": "NameError",
     "evalue": "name 'compute_u_v' is not defined",
     "output_type": "error",
     "traceback": [
      "\u001b[0;31m---------------------------------------------------------------------------\u001b[0m",
      "\u001b[0;31mNameError\u001b[0m                                 Traceback (most recent call last)",
      "Cell \u001b[0;32mIn[1], line 9\u001b[0m\n\u001b[1;32m      5\u001b[0m \u001b[38;5;66;03m#viper_client = local_client(serial_execution=True)\u001b[39;00m\n\u001b[1;32m      6\u001b[0m \u001b[38;5;66;03m# viper_client\u001b[39;00m\n\u001b[1;32m      8\u001b[0m \u001b[38;5;28;01mfrom\u001b[39;00m\u001b[38;5;250m \u001b[39m\u001b[38;5;21;01mastroviper\u001b[39;00m\u001b[38;5;21;01m.\u001b[39;00m\u001b[38;5;21;01mimaging\u001b[39;00m\u001b[38;5;250m \u001b[39m\u001b[38;5;28;01mimport\u001b[39;00m feather_v2\n\u001b[0;32m----> 9\u001b[0m \u001b[43mfeather_v2\u001b[49m\u001b[43m(\u001b[49m\u001b[43moutim\u001b[49m\u001b[38;5;241;43m=\u001b[39;49m\u001b[43m{\u001b[49m\u001b[38;5;124;43m\"\u001b[39;49m\u001b[38;5;124;43mname\u001b[39;49m\u001b[38;5;124;43m\"\u001b[39;49m\u001b[43m:\u001b[49m\u001b[43m \u001b[49m\u001b[38;5;124;43m\"\u001b[39;49m\u001b[38;5;124;43mfeathered_image.img.zarr\u001b[39;49m\u001b[38;5;124;43m\"\u001b[39;49m\u001b[43m,\u001b[49m\u001b[43m \u001b[49m\u001b[38;5;124;43m\"\u001b[39;49m\u001b[38;5;124;43mformat\u001b[39;49m\u001b[38;5;124;43m\"\u001b[39;49m\u001b[43m:\u001b[49m\u001b[43m \u001b[49m\u001b[38;5;124;43m\"\u001b[39;49m\u001b[38;5;124;43mzarr\u001b[39;49m\u001b[38;5;124;43m\"\u001b[39;49m\u001b[43m,\u001b[49m\u001b[43m \u001b[49m\u001b[38;5;124;43m\"\u001b[39;49m\u001b[38;5;124;43moverwrite\u001b[39;49m\u001b[38;5;124;43m\"\u001b[39;49m\u001b[43m:\u001b[49m\u001b[43m \u001b[49m\u001b[38;5;28;43;01mTrue\u001b[39;49;00m\u001b[43m}\u001b[49m\u001b[43m,\u001b[49m\u001b[43m \u001b[49m\u001b[43mhighres\u001b[49m\u001b[38;5;241;43m=\u001b[39;49m\u001b[43m \u001b[49m\u001b[38;5;124;43m'\u001b[39;49m\u001b[38;5;124;43mint.zarr\u001b[39;49m\u001b[38;5;124;43m'\u001b[39;49m\u001b[43m,\u001b[49m\u001b[43m \u001b[49m\u001b[43mlowres\u001b[49m\u001b[38;5;241;43m=\u001b[39;49m\u001b[43m \u001b[49m\u001b[38;5;124;43m'\u001b[39;49m\u001b[38;5;124;43msd.zarr\u001b[39;49m\u001b[38;5;124;43m'\u001b[39;49m\u001b[43m,\u001b[49m\u001b[43m \u001b[49m\u001b[43msdfactor\u001b[49m\u001b[38;5;241;43m=\u001b[39;49m\u001b[38;5;241;43m1\u001b[39;49m\u001b[43m)\u001b[49m\n",
      "File \u001b[0;32m~/Dropbox/astroviper/src/astroviper/imaging/feather_v2.py:574\u001b[0m, in \u001b[0;36mfeather_v2\u001b[0;34m(outim, highres, lowres, sdfactor, selection, memory_per_thread, thread_info, compressor)\u001b[0m\n\u001b[1;32m    572\u001b[0m t0 \u001b[38;5;241m=\u001b[39m time\u001b[38;5;241m.\u001b[39mtime()\n\u001b[1;32m    573\u001b[0m res \u001b[38;5;241m=\u001b[39m dask\u001b[38;5;241m.\u001b[39mcompute(dask_graph)\n\u001b[0;32m--> 574\u001b[0m logger\u001b[38;5;241m.\u001b[39minfo(\u001b[38;5;124m\"\u001b[39m\u001b[38;5;124mTime to compute() feather \u001b[39m\u001b[38;5;124m\"\u001b[39m \u001b[38;5;241m+\u001b[39m \u001b[38;5;28mstr\u001b[39m(time\u001b[38;5;241m.\u001b[39mtime() \u001b[38;5;241m-\u001b[39m t0) \u001b[38;5;241m+\u001b[39m \u001b[38;5;124m\"\u001b[39m\u001b[38;5;124ms\u001b[39m\u001b[38;5;124m\"\u001b[39m)\n\u001b[1;32m    576\u001b[0m \u001b[38;5;28;01mimport\u001b[39;00m\u001b[38;5;250m \u001b[39m\u001b[38;5;21;01mzarr\u001b[39;00m\n\u001b[1;32m    578\u001b[0m zarr\u001b[38;5;241m.\u001b[39mconsolidate_metadata(outim[\u001b[38;5;124m\"\u001b[39m\u001b[38;5;124mname\u001b[39m\u001b[38;5;124m\"\u001b[39m])\n",
      "File \u001b[0;32m~/miniforge3/envs/zinc13/lib/python3.13/site-packages/dask/base.py:662\u001b[0m, in \u001b[0;36mcompute\u001b[0;34m(traverse, optimize_graph, scheduler, get, *args, **kwargs)\u001b[0m\n\u001b[1;32m    659\u001b[0m     postcomputes\u001b[38;5;241m.\u001b[39mappend(x\u001b[38;5;241m.\u001b[39m__dask_postcompute__())\n\u001b[1;32m    661\u001b[0m \u001b[38;5;28;01mwith\u001b[39;00m shorten_traceback():\n\u001b[0;32m--> 662\u001b[0m     results \u001b[38;5;241m=\u001b[39m \u001b[43mschedule\u001b[49m\u001b[43m(\u001b[49m\u001b[43mdsk\u001b[49m\u001b[43m,\u001b[49m\u001b[43m \u001b[49m\u001b[43mkeys\u001b[49m\u001b[43m,\u001b[49m\u001b[43m \u001b[49m\u001b[38;5;241;43m*\u001b[39;49m\u001b[38;5;241;43m*\u001b[39;49m\u001b[43mkwargs\u001b[49m\u001b[43m)\u001b[49m\n\u001b[1;32m    664\u001b[0m \u001b[38;5;28;01mreturn\u001b[39;00m repack([f(r, \u001b[38;5;241m*\u001b[39ma) \u001b[38;5;28;01mfor\u001b[39;00m r, (f, a) \u001b[38;5;129;01min\u001b[39;00m \u001b[38;5;28mzip\u001b[39m(results, postcomputes)])\n",
      "File \u001b[0;32m~/Dropbox/astroviper/src/astroviper/imaging/feather_v2.py:172\u001b[0m, in \u001b[0;36m_feather\u001b[0;34m()\u001b[0m\n\u001b[1;32m    169\u001b[0m     w \u001b[38;5;241m=\u001b[39m _compute_w_single_beam(sd_xds)\n\u001b[1;32m    170\u001b[0m \u001b[38;5;28;01melse\u001b[39;00m:\n\u001b[1;32m    171\u001b[0m     \u001b[38;5;66;03m# w must be computed on a per-plane basis.\u001b[39;00m\n\u001b[0;32m--> 172\u001b[0m     uv \u001b[38;5;241m=\u001b[39m compute_u_v(sd_xds)\n\u001b[1;32m    173\u001b[0m     w \u001b[38;5;241m=\u001b[39m _compute_w_multiple_beams(sd_xds, uv)\n\u001b[1;32m    175\u001b[0m one_minus_w \u001b[38;5;241m=\u001b[39m \u001b[38;5;241m1\u001b[39m \u001b[38;5;241m-\u001b[39m w\n",
      "\u001b[0;31mNameError\u001b[0m: name 'compute_u_v' is not defined"
     ]
    }
   ],
   "source": [
    "from toolviper.dask.client import local_client\n",
    "log_params = {'log_level':'DEBUG'}\n",
    "worker_log_params = {'log_level':'DEBUG'}\n",
    "viper_client = local_client(cores=1, memory_limit=\"4GiB\",log_params=log_params,worker_log_params=worker_log_params)\n",
    "#viper_client = local_client(serial_execution=True)\n",
    "# viper_client\n",
    "\n",
    "from astroviper.imaging import feather_v2\n",
    "feather_v2(outim={\"name\": \"feathered_image.img.zarr\", \"format\": \"zarr\", \"overwrite\": True}, highres= 'int.zarr', lowres= 'sd.zarr', sdfactor=1)"
   ]
  },
  {
   "cell_type": "code",
   "execution_count": null,
   "id": "89579bc9",
   "metadata": {},
   "outputs": [],
   "source": [
    "from xradio.image import load_image, read_image\n",
    "feather_xds = load_image(\"feathered_image.img.zarr\")\n",
    "\n",
    "\n",
    "import numpy as np\n",
    "np.nanmax(np.abs(feather_xds.SKY.values))\n",
    "feather_xds.SKY.isel(polarization=0,frequency=1).plot()"
   ]
  },
  {
   "cell_type": "code",
   "execution_count": null,
   "id": "e2af3cb5",
   "metadata": {},
   "outputs": [],
   "source": [
    "feather_xds"
   ]
  }
 ],
 "metadata": {
  "kernelspec": {
   "display_name": "Python 3 (ipykernel)",
   "language": "python",
   "name": "python3"
  },
  "language_info": {
   "codemirror_mode": {
    "name": "ipython",
    "version": 3
   },
   "file_extension": ".py",
   "mimetype": "text/x-python",
   "name": "python",
   "nbconvert_exporter": "python",
   "pygments_lexer": "ipython3",
   "version": "3.13.2"
  }
 },
 "nbformat": 4,
 "nbformat_minor": 5
}
