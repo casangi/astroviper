{
 "cells": [
  {
   "cell_type": "markdown",
   "id": "f9bfc773-a9b3-4228-949c-9160bfe51721",
   "metadata": {},
   "source": [
    "<h1>Feather Tutorial</h1>"
   ]
  },
  {
   "cell_type": "code",
   "execution_count": null,
   "id": "692e32f8-741b-4e31-89eb-5e6458515925",
   "metadata": {},
   "outputs": [],
   "source": [
    "from graphviper.dask.client import local_client\n",
    "log_params = {'log_level':'DEBUG'}\n",
    "worker_log_params = {'log_level':'DEBUG'}\n",
    "viper_client = local_client(cores=16, memory_limit=\"6GiB\",log_params=log_params,worker_log_params=worker_log_params)\n",
    "#viper_client = local_client(serial_execution=True)\n",
    "viper_client"
   ]
  },
  {
   "cell_type": "code",
   "execution_count": null,
   "id": "c5aa2bb4",
   "metadata": {},
   "outputs": [],
   "source": [
    "from astroviper.imaging import feather\n",
    "import time\n",
    "b = time.time()\n",
    "# input CASA images\n",
    "# time to run feather: 440 s\n",
    "feather(outim={\"name\": \"feathered_image.img.zarr\", \"format\": \"zarr\", \"overwrite\": True}, highres= 'int.im', lowres= 'sd.im', sdfactor=1)\n",
    "# input zarr images\n",
    "# time to run feather, 260 s\n",
    "# feather(outim={\"name\": \"feathered_image.img.zarr\", \"format\": \"zarr\", \"overwrite\": True}, highres= 'int.zarr', lowres= 'sd.zarr', sdfactor=1)\n",
    "time.time() - b"
   ]
  },
  {
   "cell_type": "code",
   "execution_count": null,
   "id": "89579bc9",
   "metadata": {},
   "outputs": [],
   "source": [
    "from xradio.image import load_image, read_image\n",
    "feather_xds = load_image(\"feathered_image.img.zarr\")\n",
    "nl = len(feather_xds.l)\n",
    "nm = len(feather_xds.m)\n",
    "\n",
    "l_ext = slice(int(nl/2 - 100), int(nl/2 + 100))\n",
    "m_ext = slice(int(nm/2 - 100), int(nm/2 + 100))\n",
    "\n",
    "import numpy as np\n",
    "np.nanmax(np.abs(feather_xds.SKY.values))\n",
    "feather_xds.SKY.isel(polarization=0,frequency=1, l=l_ext, m=m_ext).plot()"
   ]
  },
  {
   "cell_type": "code",
   "execution_count": null,
   "id": "e2af3cb5",
   "metadata": {},
   "outputs": [],
   "source": [
    "feather_xds"
   ]
  },
  {
   "cell_type": "code",
   "execution_count": null,
   "id": "07c35c61-de36-497b-86a9-5456291afe05",
   "metadata": {},
   "outputs": [],
   "source": []
  }
 ],
 "metadata": {
  "kernelspec": {
   "display_name": "Python 3 (ipykernel)",
   "language": "python",
   "name": "python3"
  },
  "language_info": {
   "codemirror_mode": {
    "name": "ipython",
    "version": 3
   },
   "file_extension": ".py",
   "mimetype": "text/x-python",
   "name": "python",
   "nbconvert_exporter": "python",
   "pygments_lexer": "ipython3",
   "version": "3.10.12"
  }
 },
 "nbformat": 4,
 "nbformat_minor": 5
}
