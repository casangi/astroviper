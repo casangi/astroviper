{
 "cells": [
  {
   "cell_type": "markdown",
   "id": "831f85c9-09a0-4a24-9fb1-0c2d20e4d134",
   "metadata": {},
   "source": [
    "<h1>Create initial images to be used in feather tutorial</h1>"
   ]
  },
  {
   "cell_type": "code",
   "execution_count": null,
   "id": "7e62f3b4",
   "metadata": {},
   "outputs": [],
   "source": [
    "import pkg_resources, os\n",
    "casa_data_dir = pkg_resources.resource_filename(\"casadata\", \"__data__\")\n",
    "rc_file = open(os.path.expanduser(\"~/.casarc\"), \"a+\")  # append mode\n",
    "rc_file.write(\"\\nmeasures.directory: \" + casa_data_dir)\n",
    "rc_file.close()"
   ]
  },
  {
   "cell_type": "code",
   "execution_count": null,
   "id": "fcd693b7-5d36-4cc3-988d-d8931e2f8d87",
   "metadata": {},
   "outputs": [],
   "source": [
    "# download base images\n",
    "from graphviper.utils.data import download\n",
    "\n",
    "download(\"feather_sim_sd_c1_pI.im\")\n",
    "download(\"feather_sim_vla_c1_pI.im\")"
   ]
  },
  {
   "cell_type": "code",
   "execution_count": null,
   "id": "cb85b1f0-ffc0-4654-b1b5-920bd094b1f7",
   "metadata": {},
   "outputs": [],
   "source": [
    "# from graphviper.dask.client import local_client\n",
    "# viper_client = local_client(cores=4, memory_limit=\"4GB\")\n",
    "\n",
    "# import dask\n",
    "# dask.config.set(scheduler=\"synchronous\")\n",
    "# dask.config.set(scheduler=\"threads\")"
   ]
  },
  {
   "cell_type": "markdown",
   "id": "b4b3fdcf-da48-4d56-8388-460f5b6fd6a2",
   "metadata": {},
   "source": [
    "<h2>Inputs to be specified by user</h2>"
   ]
  },
  {
   "cell_type": "code",
   "execution_count": null,
   "id": "964531fe-3b90-467f-9fd1-f3a7651daf11",
   "metadata": {},
   "outputs": [],
   "source": [
    "# ra, dec size, should not exceed 4096 x 4096\n",
    "imsize = [2048, 2048]\n",
    "\n",
    "# number of channels\n",
    "nchan = 512\n",
    "\n",
    "# currently, there is only one polarization and it is I"
   ]
  },
  {
   "cell_type": "code",
   "execution_count": null,
   "id": "b05800b5-1dfe-47c3-9663-583c2959403a",
   "metadata": {},
   "outputs": [],
   "source": [
    "from xradio.image.image import (\n",
    "    make_empty_sky_image\n",
    ")\n",
    "import numpy as np\n",
    "rad_per_arcsec = np.pi/180/3600\n",
    "skel_xds = make_empty_sky_image(\n",
    "    phase_center=[0.6, -0.2],\n",
    "    image_size=imsize,\n",
    "    cell_size=[15*rad_per_arcsec, 15*rad_per_arcsec],\n",
    "    chan_coords=np.linspace(1.4e9, 1.5e9, nchan),\n",
    "    pol_coords=[\"I\"],\n",
    "    time_coords=[0],\n",
    ")\n",
    "skel_xds"
   ]
  },
  {
   "cell_type": "code",
   "execution_count": null,
   "id": "c5b1b4d8-5ed5-4a9d-8c7a-ba61dc4063f2",
   "metadata": {},
   "outputs": [],
   "source": [
    "from xradio.image import read_image\n",
    "\n",
    "sel_dict = {}\n",
    "if imsize[0] < 4096:\n",
    "    blc = 2048 - imsize[0]//2\n",
    "    l_slice = slice(blc, blc + imsize[0])\n",
    "    sel_dict[\"l\"] = l_slice\n",
    "if imsize[1] < 4096:\n",
    "    blc = 2048 - imsize[1]//2\n",
    "    m_slice = slice(blc, blc + imsize[1])\n",
    "    sel_dict[\"m\"] = m_slice\n",
    "xds_sd_temp = read_image(\"feather_sim_sd_c1_pI.im\").isel(sel_dict)\n",
    "xds_sd_temp"
   ]
  },
  {
   "cell_type": "code",
   "execution_count": null,
   "id": "8e240bf7-99ea-4b9f-ba41-cbc225d0609b",
   "metadata": {},
   "outputs": [],
   "source": [
    "xds_int_temp = read_image(\"feather_sim_vla_c1_pI.im\").isel(sel_dict)\n",
    "#xds_int_temp\n",
    "xds_int_temp"
   ]
  },
  {
   "cell_type": "code",
   "execution_count": null,
   "id": "23b5aa9f-bf48-48d4-a118-17e9ec9c6963",
   "metadata": {},
   "outputs": [],
   "source": [
    "import dask.array as da\n",
    "import xarray as xr\n",
    "dm = skel_xds.sizes\n",
    "data = da.zeros(\n",
    "    [\n",
    "        dm[\"time\"], dm[\"polarization\"],\n",
    "        dm[\"frequency\"], dm[\"l\"], dm[\"m\"]\n",
    "    ], dtype=np.float32\n",
    ")\n",
    "zeros = xr.DataArray(data=data, coords=skel_xds.coords, dims=skel_xds.dims)\n",
    "zeros"
   ]
  },
  {
   "cell_type": "code",
   "execution_count": null,
   "id": "afa01bbc-9a5c-4e01-8c42-31c0bfcdc7ef",
   "metadata": {},
   "outputs": [],
   "source": [
    "import copy\n",
    "\n",
    "sky = xr.DataArray(\n",
    "    zeros.copy(), coords=skel_xds.coords, dims=skel_xds.dims\n",
    ")\n",
    "for i in (0, 1):\n",
    "    print(i)\n",
    "    xds = copy.deepcopy(skel_xds)\n",
    "    xds[\"SKY\"] = sky.copy()\n",
    "    for j in range(0, nchan, 16):\n",
    "        min_chan = j\n",
    "        max_chan = min(j+16, nchan)\n",
    "        fx = xds_sd_temp if i == 0 else xds_int_temp\n",
    "        print(id(fx))\n",
    "        xds[\"SKY\"][{\"frequency\": slice(min_chan, max_chan)}] = (\n",
    "            fx[\"SKY\"].values\n",
    "        )\n",
    "        print(f\"xds {id(xds)}\")\n",
    "    if i == 0:\n",
    "        xds_sd = xds\n",
    "        xds_sd.attrs[\"beam\"] = copy.deepcopy(xds_sd_temp.attrs[\"beam\"])\n",
    "    else:\n",
    "        xds_int = xds\n",
    "        xds_int.attrs[\"beam\"] = copy.deepcopy(xds_int_temp.attrs[\"beam\"])\n",
    "    \n",
    "xds_sd"
   ]
  },
  {
   "cell_type": "code",
   "execution_count": null,
   "id": "215ccd03",
   "metadata": {},
   "outputs": [],
   "source": [
    "bytes_in_dtype = {'float32':4,'double':8,'complex':16}\n",
    "\n",
    "#chunking_dims_sizes = {'frequency':int_xds[\"sky\"].sizes['frequency']}\n",
    "#memory_singleton_chunk = 3*np.product(np.array(list(chunking_dims_sizes.values())))\n",
    "xds_sd['SKY'].sizes['frequency']\n",
    "\n",
    "singleton_chunk_sizes = dict(xds_sd['SKY'].sizes) \n",
    "print(singleton_chunk_sizes)\n",
    "del singleton_chunk_sizes['frequency'] #Remove dimensions that will be chuncked on.\n",
    "print(singleton_chunk_sizes)\n",
    "fudge_factor = 1.1\n",
    "n_images_in_memory = 3.0\n",
    "memory_singleton_chunk = n_images_in_memory*np.product(np.array(list(singleton_chunk_sizes.values())))*fudge_factor*bytes_in_dtype[str(xds_sd['SKY'].dtype)]/(1024**3)\n",
    "\n",
    "\n",
    "memory_singleton_chunk"
   ]
  },
  {
   "cell_type": "code",
   "execution_count": null,
   "id": "7c0f551e-eb15-44fd-825b-a96aa83ea76e",
   "metadata": {},
   "outputs": [],
   "source": [
    "xds_sd[\"SKY\"].sel(polarization=\"I\").isel(frequency=0, time=0).plot()"
   ]
  },
  {
   "cell_type": "code",
   "execution_count": null,
   "id": "d04364e8-5b15-4746-a992-d54e6ce1ba05",
   "metadata": {},
   "outputs": [],
   "source": [
    "# This is a point source, so may not be obvious\n",
    "# in this plot\n",
    "xds_int[\"SKY\"].sel(polarization=\"I\").isel(frequency=0, time=0).plot()"
   ]
  },
  {
   "cell_type": "code",
   "execution_count": null,
   "id": "bd0b550c-c370-47f0-9c8d-f5b47d1c422c",
   "metadata": {},
   "outputs": [],
   "source": [
    "# These are the input images for the next step\n",
    "\n",
    "import os, shutil\n",
    "\n",
    "from xradio.image import write_image\n",
    "for xds, outfile in zip([xds_sd, xds_int], [\"sd.zarr\", \"int.zarr\"]):\n",
    "    if os.path.exists(outfile):\n",
    "        shutil.rmtree(outfile)\n",
    "    write_image(xds, outfile, \"zarr\")\n",
    "    print(f\"Wrote {outfile}\")"
   ]
  },
  {
   "cell_type": "code",
   "execution_count": null,
   "id": "abca0d13-70f9-4ab9-8bf7-55d610e85f86",
   "metadata": {},
   "outputs": [],
   "source": []
  }
 ],
 "metadata": {
  "kernelspec": {
   "display_name": "Python 3 (ipykernel)",
   "language": "python",
   "name": "python3"
  },
  "language_info": {
   "codemirror_mode": {
    "name": "ipython",
    "version": 3
   },
   "file_extension": ".py",
   "mimetype": "text/x-python",
   "name": "python",
   "nbconvert_exporter": "python",
   "pygments_lexer": "ipython3",
   "version": "3.10.12"
  }
 },
 "nbformat": 4,
 "nbformat_minor": 5
}
