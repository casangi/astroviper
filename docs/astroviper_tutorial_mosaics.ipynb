{
 "cells": [
  {
   "cell_type": "markdown",
   "id": "0f0d4936-11b0-4627-9763-4aa285e2639b",
   "metadata": {},
   "source": [
    "## Download Dataset"
   ]
  },
  {
   "cell_type": "code",
   "execution_count": null,
   "id": "e57a56e1-3cba-4888-bfd0-27a85cb5694a",
   "metadata": {},
   "outputs": [],
   "source": [
    "from graphviper.utils.data import download\n",
    "\n",
    "download(file=\"Antennae_North.cal.lsrk.vis.zarr\")"
   ]
  },
  {
   "cell_type": "markdown",
   "id": "cf1c8d89-9c9b-43d9-8b9d-106bb2c7266b",
   "metadata": {},
   "source": [
    "## Setup Dask Cluster"
   ]
  },
  {
   "cell_type": "code",
   "execution_count": null,
   "id": "05ee7a8b-ccf2-49a9-a98d-224029f777f5",
   "metadata": {},
   "outputs": [],
   "source": [
    "# import dask\n",
    "# dask.config.set(scheduler=\"synchronous\")\n",
    "\n",
    "from graphviper.dask.client import local_client\n",
    "viper_client = local_client(cores=4, memory_limit=\"4GB\")\n",
    "# log_params = {'log_to_term':True,'log_level':'DEBUG'}\n",
    "# viper_client = local_client(cores=16, memory_limit=\"10GB\",log_params=log_params,worker_log_params=log_params)\n",
    "viper_client"
   ]
  },
  {
   "cell_type": "markdown",
   "id": "409e3d64-7cc8-4a9e-a8a4-fea221b29201",
   "metadata": {},
   "source": [
    "## Inspect Processing Set"
   ]
  },
  {
   "cell_type": "code",
   "execution_count": null,
   "id": "4cd7e5bb-f86d-4e79-8502-29f74d84a6af",
   "metadata": {},
   "outputs": [],
   "source": [
    "from xradio.vis.read_processing_set import read_processing_set\n",
    "\n",
    "intents = [\"OBSERVE_TARGET#ON_SOURCE\"]\n",
    "ps_name = \"Antennae_North.cal.lsrk.vis.zarr\"\n",
    "ps = read_processing_set(ps_name, intents=intents)\n",
    "ps.summary()"
   ]
  },
  {
   "cell_type": "code",
   "execution_count": null,
   "id": "de65129c",
   "metadata": {},
   "outputs": [],
   "source": [
    "ps.get(0)"
   ]
  },
  {
   "cell_type": "markdown",
   "id": "87f954b6-a635-4686-914e-bec7c0c7f6af",
   "metadata": {},
   "source": [
    "## Run Cube Imaging Niter 0"
   ]
  },
  {
   "cell_type": "code",
   "execution_count": null,
   "id": "ac1e5a0b-e384-4cfa-bed6-500e94e28b0b",
   "metadata": {},
   "outputs": [],
   "source": [
    "ps_name = \"Antennae_North.cal.lsrk.vis.zarr\"\n",
    "image_name = \"Antennae_North_Cube.img.zarr\"\n",
    "\n",
    "import numpy as np\n",
    "import os\n",
    "\n",
    "grid_params = {}\n",
    "grid_params[\"chan_mode\"] = \"cube\"\n",
    "grid_params[\"image_size\"] = [500, 500]\n",
    "grid_params[\"cell_size\"] = np.array([-0.13, 0.13]) * np.pi / (180 * 3600)\n",
    "grid_params[\"fft_padding\"] = 1.0\n",
    "grid_params[\"phase_direction\"] = 12\n",
    "\n",
    "data_variables = [\"sky\", \"point_spread_function\", \"primary_beam\"]\n",
    "\n",
    "os.system(\"rm -rf \" + image_name)\n",
    "n_chunks = 60\n",
    "from astroviper.imaging.cube_imaging_niter0 import cube_imaging_niter0\n",
    "\n",
    "cube_imaging_niter0(ps_name, image_name, grid_params, n_chunks, data_variables)"
   ]
  },
  {
   "cell_type": "markdown",
   "id": "4acab818-83f3-485b-b93b-67ee0f9c0cbd",
   "metadata": {},
   "source": [
    "## Inspect Image"
   ]
  },
  {
   "cell_type": "code",
   "execution_count": null,
   "id": "a5638f47-4fe2-4361-9607-f028d9beef25",
   "metadata": {},
   "outputs": [],
   "source": [
    "import xarray as xr\n",
    "\n",
    "img_xds = xr.open_zarr(\"Antennae_North_Cube.img.zarr\")\n",
    "img_xds"
   ]
  },
  {
   "cell_type": "code",
   "execution_count": null,
   "id": "b61d25e0-342d-4501-b8b4-5dd47a74f47f",
   "metadata": {},
   "outputs": [],
   "source": [
    "import matplotlib.pyplot as plt\n",
    "\n",
    "%matplotlib widget\n",
    "plt.figure()\n",
    "img_xds.POINT_SPREAD_FUNCTION.isel(polarization=1, frequency=82).plot(cmap='viridis',vmin=0.0)\n",
    "plt.figure()\n",
    "img_xds.PRIMARY_BEAM.isel(polarization=0, frequency=0).plot()\n",
    "plt.figure()\n",
    "img_xds.SKY.max(dim=\"frequency\").isel(polarization=0).plot(cmap='viridis',vmin=0.0)"
   ]
  },
  {
   "cell_type": "code",
   "execution_count": null,
   "id": "9e04b578-25be-4797-969b-f192560b2fb9",
   "metadata": {},
   "outputs": [],
   "source": [
    "#ipympl, pip install ipywidgets"
   ]
  },
  {
   "cell_type": "code",
   "execution_count": null,
   "id": "0235478c",
   "metadata": {},
   "outputs": [],
   "source": []
  }
 ],
 "metadata": {
  "kernelspec": {
   "display_name": "Python 3 (ipykernel)",
   "language": "python",
   "name": "python3"
  },
  "language_info": {
   "codemirror_mode": {
    "name": "ipython",
    "version": 3
   },
   "file_extension": ".py",
   "mimetype": "text/x-python",
   "name": "python",
   "nbconvert_exporter": "python",
   "pygments_lexer": "ipython3",
   "version": "3.11.7"
  }
 },
 "nbformat": 4,
 "nbformat_minor": 5
}
