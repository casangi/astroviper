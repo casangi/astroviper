{
 "cells": [
  {
   "cell_type": "markdown",
   "id": "ed122f09-ead5-4a22-a70b-7702d556e7fe",
   "metadata": {},
   "source": [
    "# astroVIPER Installation Test"
   ]
  },
  {
   "cell_type": "markdown",
   "id": "5b79f2ac-e4c1-4a23-a789-159b4c931bb6",
   "metadata": {},
   "source": [
    "```python\n",
    "conda create --name astroviper python=3.11 --no-default-packages\n",
    "conda activate astroviper\n",
    "#Only on mac: conda install -c conda-forge python-casacore\n",
    "pip install astroviper\n",
    "```"
   ]
  },
  {
   "cell_type": "markdown",
   "id": "a0ca93e2-15a0-4f38-afee-a8bf7016b0ab",
   "metadata": {},
   "source": [
    "## Check installation"
   ]
  },
  {
   "cell_type": "code",
   "execution_count": 1,
   "id": "e7850f0a-f46a-48cc-98b1-fde794af919a",
   "metadata": {},
   "outputs": [
    {
     "name": "stdout",
     "output_type": "stream",
     "text": [
      "astroVIPER version 0.0.5 already installed.\n"
     ]
    }
   ],
   "source": [
    "import os\n",
    "\n",
    "from importlib.metadata import version\n",
    "\n",
    "try:\n",
    "    import astroviper\n",
    "\n",
    "    print(\"astroVIPER version\", version(\"astroviper\"), \"already installed.\")\n",
    "except ImportError as e:\n",
    "    print(e)\n",
    "    print(\"Installing astroVIPER\")\n",
    "\n",
    "    os.system(\"pip install astroviper\")\n",
    "\n",
    "    import xradio\n",
    "\n",
    "    print(\"astroVIPER version\", version(\"astroviper\"), \" installed.\")"
   ]
  },
  {
   "cell_type": "markdown",
   "id": "73e2e0cf-1729-41dc-8a2e-ee571f861f40",
   "metadata": {},
   "source": [
    "## Optional if casarc does not have path to casadata"
   ]
  },
  {
   "cell_type": "code",
   "execution_count": 2,
   "id": "460b324f-891e-4508-af65-a9479bca121a",
   "metadata": {},
   "outputs": [
    {
     "data": {
      "text/plain": [
       "'\\nimport pkg_resources\\ncasa_data_dir = pkg_resources.resource_filename(\\'casadata\\', \\'__data__\\')\\nrc_file = open(os.path.expanduser(\"~/.casarc\"), \"a+\")  # append mode\\nrc_file.write(\"\\n measures.directory: \" + casa_data_dir)\\nrc_file.close()\\n'"
      ]
     },
     "execution_count": 2,
     "metadata": {},
     "output_type": "execute_result"
    }
   ],
   "source": [
    "\"\"\"\n",
    "import pkg_resources\n",
    "casa_data_dir = pkg_resources.resource_filename('casadata', '__data__')\n",
    "rc_file = open(os.path.expanduser(\"~/.casarc\"), \"a+\")  # append mode\n",
    "rc_file.write(\"\\n measures.directory: \" + casa_data_dir)\n",
    "rc_file.close()\n",
    "\"\"\""
   ]
  },
  {
   "cell_type": "markdown",
   "id": "2682bb1c-c377-47f2-9faa-271108954d8f",
   "metadata": {},
   "source": [
    "## Setup Dask Cluster"
   ]
  },
  {
   "cell_type": "code",
   "execution_count": 3,
   "id": "f4e50179-3486-4454-9036-ff55d24346fc",
   "metadata": {},
   "outputs": [
    {
     "name": "stdout",
     "output_type": "stream",
     "text": [
      "[client.py:115 -         local_client() ] Created client <Client: 'tcp://127.0.0.1:50228' processes=2 threads=2, memory=7.45 GiB>\n"
     ]
    },
    {
     "data": {
      "text/html": [
       "<div>\n",
       "    <div style=\"width: 24px; height: 24px; background-color: #e1e1e1; border: 3px solid #9D9D9D; border-radius: 5px; position: absolute;\"> </div>\n",
       "    <div style=\"margin-left: 48px;\">\n",
       "        <h3 style=\"margin-bottom: 0px;\">Client</h3>\n",
       "        <p style=\"color: #9D9D9D; margin-bottom: 0px;\">Client-3f1cf01a-72e1-11ee-8a5e-acde48001122</p>\n",
       "        <table style=\"width: 100%; text-align: left;\">\n",
       "\n",
       "        <tr>\n",
       "        \n",
       "            <td style=\"text-align: left;\"><strong>Connection method:</strong> Cluster object</td>\n",
       "            <td style=\"text-align: left;\"><strong>Cluster type:</strong> distributed.LocalCluster</td>\n",
       "        \n",
       "        </tr>\n",
       "\n",
       "        \n",
       "            <tr>\n",
       "                <td style=\"text-align: left;\">\n",
       "                    <strong>Dashboard: </strong> <a href=\"http://127.0.0.1:8787/status\" target=\"_blank\">http://127.0.0.1:8787/status</a>\n",
       "                </td>\n",
       "                <td style=\"text-align: left;\"></td>\n",
       "            </tr>\n",
       "        \n",
       "\n",
       "        </table>\n",
       "\n",
       "        \n",
       "\n",
       "        \n",
       "            <details>\n",
       "            <summary style=\"margin-bottom: 20px;\"><h3 style=\"display: inline;\">Cluster Info</h3></summary>\n",
       "            <div class=\"jp-RenderedHTMLCommon jp-RenderedHTML jp-mod-trusted jp-OutputArea-output\">\n",
       "    <div style=\"width: 24px; height: 24px; background-color: #e1e1e1; border: 3px solid #9D9D9D; border-radius: 5px; position: absolute;\">\n",
       "    </div>\n",
       "    <div style=\"margin-left: 48px;\">\n",
       "        <h3 style=\"margin-bottom: 0px; margin-top: 0px;\">LocalCluster</h3>\n",
       "        <p style=\"color: #9D9D9D; margin-bottom: 0px;\">f35ff99c</p>\n",
       "        <table style=\"width: 100%; text-align: left;\">\n",
       "            <tr>\n",
       "                <td style=\"text-align: left;\">\n",
       "                    <strong>Dashboard:</strong> <a href=\"http://127.0.0.1:8787/status\" target=\"_blank\">http://127.0.0.1:8787/status</a>\n",
       "                </td>\n",
       "                <td style=\"text-align: left;\">\n",
       "                    <strong>Workers:</strong> 2\n",
       "                </td>\n",
       "            </tr>\n",
       "            <tr>\n",
       "                <td style=\"text-align: left;\">\n",
       "                    <strong>Total threads:</strong> 2\n",
       "                </td>\n",
       "                <td style=\"text-align: left;\">\n",
       "                    <strong>Total memory:</strong> 7.45 GiB\n",
       "                </td>\n",
       "            </tr>\n",
       "            \n",
       "            <tr>\n",
       "    <td style=\"text-align: left;\"><strong>Status:</strong> running</td>\n",
       "    <td style=\"text-align: left;\"><strong>Using processes:</strong> True</td>\n",
       "</tr>\n",
       "\n",
       "            \n",
       "        </table>\n",
       "\n",
       "        <details>\n",
       "            <summary style=\"margin-bottom: 20px;\">\n",
       "                <h3 style=\"display: inline;\">Scheduler Info</h3>\n",
       "            </summary>\n",
       "\n",
       "            <div style=\"\">\n",
       "    <div>\n",
       "        <div style=\"width: 24px; height: 24px; background-color: #FFF7E5; border: 3px solid #FF6132; border-radius: 5px; position: absolute;\"> </div>\n",
       "        <div style=\"margin-left: 48px;\">\n",
       "            <h3 style=\"margin-bottom: 0px;\">Scheduler</h3>\n",
       "            <p style=\"color: #9D9D9D; margin-bottom: 0px;\">Scheduler-58e47fac-1579-4781-aecf-eafdd6d2ee36</p>\n",
       "            <table style=\"width: 100%; text-align: left;\">\n",
       "                <tr>\n",
       "                    <td style=\"text-align: left;\">\n",
       "                        <strong>Comm:</strong> tcp://127.0.0.1:50228\n",
       "                    </td>\n",
       "                    <td style=\"text-align: left;\">\n",
       "                        <strong>Workers:</strong> 2\n",
       "                    </td>\n",
       "                </tr>\n",
       "                <tr>\n",
       "                    <td style=\"text-align: left;\">\n",
       "                        <strong>Dashboard:</strong> <a href=\"http://127.0.0.1:8787/status\" target=\"_blank\">http://127.0.0.1:8787/status</a>\n",
       "                    </td>\n",
       "                    <td style=\"text-align: left;\">\n",
       "                        <strong>Total threads:</strong> 2\n",
       "                    </td>\n",
       "                </tr>\n",
       "                <tr>\n",
       "                    <td style=\"text-align: left;\">\n",
       "                        <strong>Started:</strong> Just now\n",
       "                    </td>\n",
       "                    <td style=\"text-align: left;\">\n",
       "                        <strong>Total memory:</strong> 7.45 GiB\n",
       "                    </td>\n",
       "                </tr>\n",
       "            </table>\n",
       "        </div>\n",
       "    </div>\n",
       "\n",
       "    <details style=\"margin-left: 48px;\">\n",
       "        <summary style=\"margin-bottom: 20px;\">\n",
       "            <h3 style=\"display: inline;\">Workers</h3>\n",
       "        </summary>\n",
       "\n",
       "        \n",
       "        <div style=\"margin-bottom: 20px;\">\n",
       "            <div style=\"width: 24px; height: 24px; background-color: #DBF5FF; border: 3px solid #4CC9FF; border-radius: 5px; position: absolute;\"> </div>\n",
       "            <div style=\"margin-left: 48px;\">\n",
       "            <details>\n",
       "                <summary>\n",
       "                    <h4 style=\"margin-bottom: 0px; display: inline;\">Worker: 0</h4>\n",
       "                </summary>\n",
       "                <table style=\"width: 100%; text-align: left;\">\n",
       "                    <tr>\n",
       "                        <td style=\"text-align: left;\">\n",
       "                            <strong>Comm: </strong> tcp://127.0.0.1:50237\n",
       "                        </td>\n",
       "                        <td style=\"text-align: left;\">\n",
       "                            <strong>Total threads: </strong> 1\n",
       "                        </td>\n",
       "                    </tr>\n",
       "                    <tr>\n",
       "                        <td style=\"text-align: left;\">\n",
       "                            <strong>Dashboard: </strong> <a href=\"http://127.0.0.1:50240/status\" target=\"_blank\">http://127.0.0.1:50240/status</a>\n",
       "                        </td>\n",
       "                        <td style=\"text-align: left;\">\n",
       "                            <strong>Memory: </strong> 3.73 GiB\n",
       "                        </td>\n",
       "                    </tr>\n",
       "                    <tr>\n",
       "                        <td style=\"text-align: left;\">\n",
       "                            <strong>Nanny: </strong> tcp://127.0.0.1:50231\n",
       "                        </td>\n",
       "                        <td style=\"text-align: left;\"></td>\n",
       "                    </tr>\n",
       "                    <tr>\n",
       "                        <td colspan=\"2\" style=\"text-align: left;\">\n",
       "                            <strong>Local directory: </strong> /var/folders/8r/qj_26x951lv2t2kmlm5b8kdh0000gp/T/dask-scratch-space/worker-lztpkb89\n",
       "                        </td>\n",
       "                    </tr>\n",
       "\n",
       "                    \n",
       "\n",
       "                    \n",
       "                    <tr>\n",
       "                        <td style=\"text-align: left;\">\n",
       "                            <strong>Tasks executing: </strong> \n",
       "                        </td>\n",
       "                        <td style=\"text-align: left;\">\n",
       "                            <strong>Tasks in memory: </strong> \n",
       "                        </td>\n",
       "                    </tr>\n",
       "                    <tr>\n",
       "                        <td style=\"text-align: left;\">\n",
       "                            <strong>Tasks ready: </strong> \n",
       "                        </td>\n",
       "                        <td style=\"text-align: left;\">\n",
       "                            <strong>Tasks in flight: </strong>\n",
       "                        </td>\n",
       "                    </tr>\n",
       "                    <tr>\n",
       "                        <td style=\"text-align: left;\">\n",
       "                            <strong>CPU usage:</strong> 0.0%\n",
       "                        </td>\n",
       "                        <td style=\"text-align: left;\">\n",
       "                            <strong>Last seen: </strong> Just now\n",
       "                        </td>\n",
       "                    </tr>\n",
       "                    <tr>\n",
       "                        <td style=\"text-align: left;\">\n",
       "                            <strong>Memory usage: </strong> 55.68 MiB\n",
       "                        </td>\n",
       "                        <td style=\"text-align: left;\">\n",
       "                            <strong>Spilled bytes: </strong> 0 B\n",
       "                        </td>\n",
       "                    </tr>\n",
       "                    <tr>\n",
       "                        <td style=\"text-align: left;\">\n",
       "                            <strong>Read bytes: </strong> 2.46 MiB\n",
       "                        </td>\n",
       "                        <td style=\"text-align: left;\">\n",
       "                            <strong>Write bytes: </strong> 0.0 B\n",
       "                        </td>\n",
       "                    </tr>\n",
       "                    \n",
       "\n",
       "                </table>\n",
       "            </details>\n",
       "            </div>\n",
       "        </div>\n",
       "        \n",
       "        <div style=\"margin-bottom: 20px;\">\n",
       "            <div style=\"width: 24px; height: 24px; background-color: #DBF5FF; border: 3px solid #4CC9FF; border-radius: 5px; position: absolute;\"> </div>\n",
       "            <div style=\"margin-left: 48px;\">\n",
       "            <details>\n",
       "                <summary>\n",
       "                    <h4 style=\"margin-bottom: 0px; display: inline;\">Worker: 1</h4>\n",
       "                </summary>\n",
       "                <table style=\"width: 100%; text-align: left;\">\n",
       "                    <tr>\n",
       "                        <td style=\"text-align: left;\">\n",
       "                            <strong>Comm: </strong> tcp://127.0.0.1:50238\n",
       "                        </td>\n",
       "                        <td style=\"text-align: left;\">\n",
       "                            <strong>Total threads: </strong> 1\n",
       "                        </td>\n",
       "                    </tr>\n",
       "                    <tr>\n",
       "                        <td style=\"text-align: left;\">\n",
       "                            <strong>Dashboard: </strong> <a href=\"http://127.0.0.1:50239/status\" target=\"_blank\">http://127.0.0.1:50239/status</a>\n",
       "                        </td>\n",
       "                        <td style=\"text-align: left;\">\n",
       "                            <strong>Memory: </strong> 3.73 GiB\n",
       "                        </td>\n",
       "                    </tr>\n",
       "                    <tr>\n",
       "                        <td style=\"text-align: left;\">\n",
       "                            <strong>Nanny: </strong> tcp://127.0.0.1:50233\n",
       "                        </td>\n",
       "                        <td style=\"text-align: left;\"></td>\n",
       "                    </tr>\n",
       "                    <tr>\n",
       "                        <td colspan=\"2\" style=\"text-align: left;\">\n",
       "                            <strong>Local directory: </strong> /var/folders/8r/qj_26x951lv2t2kmlm5b8kdh0000gp/T/dask-scratch-space/worker-fwr61ol6\n",
       "                        </td>\n",
       "                    </tr>\n",
       "\n",
       "                    \n",
       "\n",
       "                    \n",
       "                    <tr>\n",
       "                        <td style=\"text-align: left;\">\n",
       "                            <strong>Tasks executing: </strong> \n",
       "                        </td>\n",
       "                        <td style=\"text-align: left;\">\n",
       "                            <strong>Tasks in memory: </strong> \n",
       "                        </td>\n",
       "                    </tr>\n",
       "                    <tr>\n",
       "                        <td style=\"text-align: left;\">\n",
       "                            <strong>Tasks ready: </strong> \n",
       "                        </td>\n",
       "                        <td style=\"text-align: left;\">\n",
       "                            <strong>Tasks in flight: </strong>\n",
       "                        </td>\n",
       "                    </tr>\n",
       "                    <tr>\n",
       "                        <td style=\"text-align: left;\">\n",
       "                            <strong>CPU usage:</strong> 0.0%\n",
       "                        </td>\n",
       "                        <td style=\"text-align: left;\">\n",
       "                            <strong>Last seen: </strong> Just now\n",
       "                        </td>\n",
       "                    </tr>\n",
       "                    <tr>\n",
       "                        <td style=\"text-align: left;\">\n",
       "                            <strong>Memory usage: </strong> 55.69 MiB\n",
       "                        </td>\n",
       "                        <td style=\"text-align: left;\">\n",
       "                            <strong>Spilled bytes: </strong> 0 B\n",
       "                        </td>\n",
       "                    </tr>\n",
       "                    <tr>\n",
       "                        <td style=\"text-align: left;\">\n",
       "                            <strong>Read bytes: </strong> 0.96 MiB\n",
       "                        </td>\n",
       "                        <td style=\"text-align: left;\">\n",
       "                            <strong>Write bytes: </strong> 0.0 B\n",
       "                        </td>\n",
       "                    </tr>\n",
       "                    \n",
       "\n",
       "                </table>\n",
       "            </details>\n",
       "            </div>\n",
       "        </div>\n",
       "        \n",
       "\n",
       "    </details>\n",
       "</div>\n",
       "\n",
       "        </details>\n",
       "    </div>\n",
       "</div>\n",
       "            </details>\n",
       "        \n",
       "\n",
       "    </div>\n",
       "</div>"
      ],
      "text/plain": [
       "<Client: 'tcp://127.0.0.1:50228' processes=2 threads=2, memory=7.45 GiB>"
      ]
     },
     "execution_count": 3,
     "metadata": {},
     "output_type": "execute_result"
    }
   ],
   "source": [
    "import astroviper\n",
    "from astroviper.client import local_client\n",
    "\n",
    "viper_client = local_client(cores=2, memory_limit=\"4GB\", worker_log_parms=None)\n",
    "viper_client"
   ]
  },
  {
   "cell_type": "markdown",
   "id": "7eb7eaad-3316-4136-80bf-a5edc7c7b40b",
   "metadata": {},
   "source": [
    "## Download and convert dataset"
   ]
  },
  {
   "cell_type": "code",
   "execution_count": 4,
   "id": "0be51722-3ef3-45ec-bce5-82ae892559d3",
   "metadata": {},
   "outputs": [
    {
     "name": "stdout",
     "output_type": "stream",
     "text": [
      "File exists.\n"
     ]
    }
   ],
   "source": [
    "from xradio.data.datasets import download\n",
    "\n",
    "infile = \"Antennae_North.cal.lsrk.split.ms\"\n",
    "outfile = \"Antennae_North.cal.lsrk.split.vis.zarr\"\n",
    "download(file=\"Antennae_North.cal.lsrk.split.ms\", source=\"dropbox\")\n",
    "\n",
    "from xradio.vis.convert_msv2_to_processing_set import convert_msv2_to_processing_set\n",
    "\n",
    "partition_scheme = \"ddi_intent_field\"\n",
    "\n",
    "chunks_on_disk = {\"frequency\": 3}\n",
    "convert_msv2_to_processing_set(\n",
    "    infile=infile,\n",
    "    outfile=outfile,\n",
    "    partition_scheme=partition_scheme,\n",
    "    parallel=False,\n",
    "    overwrite=True,\n",
    "    chunks_on_disk=chunks_on_disk,\n",
    ")"
   ]
  },
  {
   "cell_type": "markdown",
   "id": "33a13d40-5654-4011-9467-d269fe601826",
   "metadata": {},
   "source": [
    "## Inspect Processing Set"
   ]
  },
  {
   "cell_type": "code",
   "execution_count": 5,
   "id": "774b2011-8921-48fb-90dc-f56689862110",
   "metadata": {},
   "outputs": [
    {
     "data": {
      "text/html": [
       "<div>\n",
       "<style scoped>\n",
       "    .dataframe tbody tr th:only-of-type {\n",
       "        vertical-align: middle;\n",
       "    }\n",
       "\n",
       "    .dataframe tbody tr th {\n",
       "        vertical-align: top;\n",
       "    }\n",
       "\n",
       "    .dataframe thead th {\n",
       "        text-align: right;\n",
       "    }\n",
       "</style>\n",
       "<table border=\"1\" class=\"dataframe\">\n",
       "  <thead>\n",
       "    <tr style=\"text-align: right;\">\n",
       "      <th></th>\n",
       "      <th>name</th>\n",
       "      <th>ddi</th>\n",
       "      <th>intent</th>\n",
       "      <th>field_id</th>\n",
       "      <th>field_name</th>\n",
       "      <th>start_frequency</th>\n",
       "      <th>end_frequency</th>\n",
       "    </tr>\n",
       "  </thead>\n",
       "  <tbody>\n",
       "    <tr>\n",
       "      <th>0</th>\n",
       "      <td>Antennae_North.cal.lsrk.split_ddi_0_intent_OBS...</td>\n",
       "      <td>0</td>\n",
       "      <td>OBSERVE_TARGET#ON_SOURCE</td>\n",
       "      <td>1</td>\n",
       "      <td>NGC4038 - Antennae North</td>\n",
       "      <td>3.439281e+11</td>\n",
       "      <td>3.440067e+11</td>\n",
       "    </tr>\n",
       "    <tr>\n",
       "      <th>1</th>\n",
       "      <td>Antennae_North.cal.lsrk.split_ddi_0_intent_OBS...</td>\n",
       "      <td>0</td>\n",
       "      <td>OBSERVE_TARGET#ON_SOURCE</td>\n",
       "      <td>0</td>\n",
       "      <td>NGC4038 - Antennae North</td>\n",
       "      <td>3.439281e+11</td>\n",
       "      <td>3.440067e+11</td>\n",
       "    </tr>\n",
       "    <tr>\n",
       "      <th>2</th>\n",
       "      <td>Antennae_North.cal.lsrk.split_ddi_0_intent_OBS...</td>\n",
       "      <td>0</td>\n",
       "      <td>OBSERVE_TARGET#ON_SOURCE</td>\n",
       "      <td>2</td>\n",
       "      <td>NGC4038 - Antennae North</td>\n",
       "      <td>3.439281e+11</td>\n",
       "      <td>3.440067e+11</td>\n",
       "    </tr>\n",
       "  </tbody>\n",
       "</table>\n",
       "</div>"
      ],
      "text/plain": [
       "                                                name  ddi  \\\n",
       "0  Antennae_North.cal.lsrk.split_ddi_0_intent_OBS...    0   \n",
       "1  Antennae_North.cal.lsrk.split_ddi_0_intent_OBS...    0   \n",
       "2  Antennae_North.cal.lsrk.split_ddi_0_intent_OBS...    0   \n",
       "\n",
       "                     intent  field_id                field_name  \\\n",
       "0  OBSERVE_TARGET#ON_SOURCE         1  NGC4038 - Antennae North   \n",
       "1  OBSERVE_TARGET#ON_SOURCE         0  NGC4038 - Antennae North   \n",
       "2  OBSERVE_TARGET#ON_SOURCE         2  NGC4038 - Antennae North   \n",
       "\n",
       "   start_frequency  end_frequency  \n",
       "0     3.439281e+11   3.440067e+11  \n",
       "1     3.439281e+11   3.440067e+11  \n",
       "2     3.439281e+11   3.440067e+11  "
      ]
     },
     "execution_count": 5,
     "metadata": {},
     "output_type": "execute_result"
    }
   ],
   "source": [
    "ps_name = outfile\n",
    "\n",
    "from xradio.vis.read_processing_set import read_processing_set\n",
    "\n",
    "# sel_parms = {'xds_id':[0,1,2]}\n",
    "# fields = [\"NGC4038 - Antennae North\"]\n",
    "intents = [\"OBSERVE_TARGET#ON_SOURCE\"]\n",
    "fields = None\n",
    "ps = read_processing_set(ps_name, intents=intents, fields=fields)\n",
    "ps.summary()"
   ]
  },
  {
   "cell_type": "markdown",
   "id": "20b44df1-613b-4eaf-9c04-55bad4c5ced3",
   "metadata": {},
   "source": [
    "## Inspect a single ms_v4"
   ]
  },
  {
   "cell_type": "code",
   "execution_count": 6,
   "id": "14c1b6da-4c81-4f97-9000-0f5784dfbc66",
   "metadata": {},
   "outputs": [],
   "source": [
    "ms_xds = ps[list(ps.keys())[0]]"
   ]
  },
  {
   "cell_type": "markdown",
   "id": "aa7e11c7-18f8-4174-a713-a020a8f91273",
   "metadata": {},
   "source": [
    "## Creating Parallel Coordinates for the Map"
   ]
  },
  {
   "cell_type": "markdown",
   "id": "f4d9f748-3a9b-4ffb-9543-ba71d13df497",
   "metadata": {},
   "source": [
    "### Example: Frequency Parallel Coordinate"
   ]
  },
  {
   "cell_type": "code",
   "execution_count": 7,
   "id": "a33a781e-9b81-46c6-9c16-7510d0f4eae3",
   "metadata": {},
   "outputs": [
    {
     "data": {
      "text/plain": [
       "{'data': [343928096685.9587,\n",
       "  343939328174.9401,\n",
       "  343950559663.9216,\n",
       "  343961791152.903,\n",
       "  343973022641.88446,\n",
       "  343984254130.8659,\n",
       "  343995485619.84735,\n",
       "  344006717108.8288],\n",
       " 'data_chunks': {0: array([3.43928097e+11, 3.43939328e+11, 3.43950560e+11]),\n",
       "  1: array([3.43961791e+11, 3.43973023e+11, 3.43984254e+11]),\n",
       "  2: array([3.43995486e+11, 3.44006717e+11])},\n",
       " 'dims': ('frequency',),\n",
       " 'attrs': {'channel_width': {'attrs': {'type': 'quanta', 'units': ['Hz']},\n",
       "   'data': 11231488.981445312,\n",
       "   'dims': ''},\n",
       "  'frame': 'LSRK',\n",
       "  'reference_frequency': {'attrs': {'frame': 'LSRK',\n",
       "    'type': 'spectral_coord',\n",
       "    'units': ['Hz']},\n",
       "   'data': 343928096685.9587,\n",
       "   'dims': ''},\n",
       "  'spectral_window_name': '',\n",
       "  'spw_id': 0,\n",
       "  'type': 'spectral_coord',\n",
       "  'units': ['Hz']}}"
      ]
     },
     "execution_count": 7,
     "metadata": {},
     "output_type": "execute_result"
    }
   ],
   "source": [
    "from astroviper._concurrency._graph_tools import _make_parallel_coord\n",
    "\n",
    "parallel_coords = {}\n",
    "n_chunks = 3\n",
    "parallel_coords[\"frequency\"] = _make_parallel_coord(\n",
    "    coord=ms_xds.frequency, n_chunks=n_chunks\n",
    ")\n",
    "parallel_coords[\"frequency\"]"
   ]
  },
  {
   "cell_type": "markdown",
   "id": "bbbea156-e5e0-45eb-8a40-ca1f11c97e1b",
   "metadata": {},
   "source": [
    "## Create a chunk function and map graph"
   ]
  },
  {
   "cell_type": "code",
   "execution_count": 8,
   "id": "93a5da8a-6b40-4912-903b-e9c9ee196fbd",
   "metadata": {},
   "outputs": [
    {
     "data": {
      "image/png": "[encoded data removed]",
      "text/plain": [
       "<IPython.core.display.Image object>"
      ]
     },
     "execution_count": 8,
     "metadata": {},
     "output_type": "execute_result"
    }
   ],
   "source": [
    "from astroviper._concurrency._graph_tools import _map\n",
    "import dask\n",
    "\n",
    "\n",
    "def my_func(input_parms):\n",
    "    print(\"Keys in input parameters: \", list(input_parms.keys()))\n",
    "    print(\"Test_input:\", input_parms[\"test_input\"])\n",
    "    print(\"data_sel\", input_parms[\"data_sel\"])\n",
    "    print(\"chunk_coords\", input_parms[\"chunk_coords\"])\n",
    "    print(\"chunk_id\", input_parms[\"chunk_id\"])\n",
    "    print(\"*****\" * 10)\n",
    "    return input_parms[\"test_input\"]\n",
    "\n",
    "\n",
    "# ['test_input', 'input_data_name', 'viper_local_dir', 'date_time', 'data_sel', 'chunk_coords', 'chunk_indx', 'chunk_id', 'parallel_dims']\n",
    "input_parms = {}\n",
    "input_parms[\"test_input\"] = 42\n",
    "\n",
    "sel_parms = {}\n",
    "sel_parms[\"fields\"] = [\"NGC4038 - Antennae North\"]\n",
    "sel_parms[\"intents\"] = [\"OBSERVE_TARGET#ON_SOURCE\"]\n",
    "graph = _map(\n",
    "    input_data_name=ps_name,\n",
    "    input_data_type=\"processing_set\",\n",
    "    ps_sel_parms=sel_parms,\n",
    "    parallel_coords=parallel_coords,\n",
    "    func_chunk=my_func,\n",
    "    input_parms=input_parms,\n",
    "    client=None,\n",
    ")\n",
    "\n",
    "dask.visualize(graph)"
   ]
  },
  {
   "cell_type": "markdown",
   "id": "5f509ded-23dd-4c08-aabc-d19678a7bbb8",
   "metadata": {},
   "source": [
    "## Run the graph"
   ]
  },
  {
   "cell_type": "code",
   "execution_count": 9,
   "id": "252e010a-b04f-43dd-8e4f-798d31267b71",
   "metadata": {},
   "outputs": [
    {
     "data": {
      "text/plain": [
       "(([42, 42, 42], None),)"
      ]
     },
     "execution_count": 9,
     "metadata": {},
     "output_type": "execute_result"
    }
   ],
   "source": [
    "dask.compute(graph)"
   ]
  },
  {
   "cell_type": "markdown",
   "id": "291e9e20-8b36-4cb2-82b2-90fdfaf37a01",
   "metadata": {},
   "source": [
    "## Adding a reduce"
   ]
  },
  {
   "cell_type": "code",
   "execution_count": 10,
   "id": "3286a1c5-cd4c-45e1-9ada-c14802538b82",
   "metadata": {},
   "outputs": [
    {
     "data": {
      "image/png": "[encoded data removed]",
      "text/plain": [
       "<IPython.core.display.Image object>"
      ]
     },
     "execution_count": 10,
     "metadata": {},
     "output_type": "execute_result"
    }
   ],
   "source": [
    "from astroviper._concurrency._graph_tools import _reduce\n",
    "\n",
    "\n",
    "def my_sum(input_data, input_parms):\n",
    "    return np.sum(input_data) + input_parms[\"test_input\"]\n",
    "\n",
    "\n",
    "input_parms = {}\n",
    "input_parms[\"test_input\"] = 5\n",
    "graph_reduce = _reduce(graph, my_sum, input_parms)\n",
    "dask.visualize(graph_reduce)"
   ]
  },
  {
   "cell_type": "markdown",
   "id": "717022f0-fed9-461a-9943-ea6f31714249",
   "metadata": {},
   "source": [
    "## Run the graph"
   ]
  },
  {
   "cell_type": "code",
   "execution_count": 11,
   "id": "199eb981-3852-40d6-915c-70cc63818677",
   "metadata": {},
   "outputs": [
    {
     "name": "stderr",
     "output_type": "stream",
     "text": [
      "2023-10-24 22:50:29,499 - distributed.worker - WARNING - Compute Failed\n",
      "Key:       my_sum-13cc6090-f2e6-4dc8-b56b-3b2f7121d8da\n",
      "Function:  execute_task\n",
      "args:      ((<function my_sum at 0x115e8fa60>, [42, 42], (<class 'dict'>, [['test_input', 5]])))\n",
      "kwargs:    {}\n",
      "Exception: 'NameError(\"name \\'np\\' is not defined\")'\n",
      "\n"
     ]
    },
    {
     "ename": "NameError",
     "evalue": "name 'np' is not defined",
     "output_type": "error",
     "traceback": [
      "\u001b[0;31m---------------------------------------------------------------------------\u001b[0m",
      "\u001b[0;31mNameError\u001b[0m                                 Traceback (most recent call last)",
      "Cell \u001b[0;32mIn[11], line 1\u001b[0m\n\u001b[0;32m----> 1\u001b[0m \u001b[43mdask\u001b[49m\u001b[38;5;241;43m.\u001b[39;49m\u001b[43mcompute\u001b[49m\u001b[43m(\u001b[49m\u001b[43mgraph_reduce\u001b[49m\u001b[43m)\u001b[49m\n",
      "File \u001b[0;32m~/mambaforge-pypy3/envs/astroviper2/lib/python3.11/site-packages/dask/base.py:628\u001b[0m, in \u001b[0;36mcompute\u001b[0;34m(traverse, optimize_graph, scheduler, get, *args, **kwargs)\u001b[0m\n\u001b[1;32m    625\u001b[0m     postcomputes\u001b[38;5;241m.\u001b[39mappend(x\u001b[38;5;241m.\u001b[39m__dask_postcompute__())\n\u001b[1;32m    627\u001b[0m \u001b[38;5;28;01mwith\u001b[39;00m shorten_traceback():\n\u001b[0;32m--> 628\u001b[0m     results \u001b[38;5;241m=\u001b[39m \u001b[43mschedule\u001b[49m\u001b[43m(\u001b[49m\u001b[43mdsk\u001b[49m\u001b[43m,\u001b[49m\u001b[43m \u001b[49m\u001b[43mkeys\u001b[49m\u001b[43m,\u001b[49m\u001b[43m \u001b[49m\u001b[38;5;241;43m*\u001b[39;49m\u001b[38;5;241;43m*\u001b[39;49m\u001b[43mkwargs\u001b[49m\u001b[43m)\u001b[49m\n\u001b[1;32m    630\u001b[0m \u001b[38;5;28;01mreturn\u001b[39;00m repack([f(r, \u001b[38;5;241m*\u001b[39ma) \u001b[38;5;28;01mfor\u001b[39;00m r, (f, a) \u001b[38;5;129;01min\u001b[39;00m \u001b[38;5;28mzip\u001b[39m(results, postcomputes)])\n",
      "Cell \u001b[0;32mIn[10], line 5\u001b[0m, in \u001b[0;36mmy_sum\u001b[0;34m()\u001b[0m\n\u001b[1;32m      4\u001b[0m \u001b[38;5;28;01mdef\u001b[39;00m \u001b[38;5;21mmy_sum\u001b[39m(input_data, input_parms):\n\u001b[0;32m----> 5\u001b[0m     \u001b[38;5;28;01mreturn\u001b[39;00m np\u001b[38;5;241m.\u001b[39msum(input_data) \u001b[38;5;241m+\u001b[39m input_parms[\u001b[38;5;124m\"\u001b[39m\u001b[38;5;124mtest_input\u001b[39m\u001b[38;5;124m\"\u001b[39m]\n",
      "\u001b[0;31mNameError\u001b[0m: name 'np' is not defined"
     ]
    }
   ],
   "source": [
    "dask.compute(graph_reduce)"
   ]
  },
  {
   "cell_type": "code",
   "execution_count": null,
   "id": "54e0a148-b7c6-4f87-ac40-9a94953672e9",
   "metadata": {},
   "outputs": [],
   "source": []
  }
 ],
 "metadata": {
  "kernelspec": {
   "display_name": "Python 3 (ipykernel)",
   "language": "python",
   "name": "python3"
  },
  "language_info": {
   "codemirror_mode": {
    "name": "ipython",
    "version": 3
   },
   "file_extension": ".py",
   "mimetype": "text/x-python",
   "name": "python",
   "nbconvert_exporter": "python",
   "pygments_lexer": "ipython3",
   "version": "3.11.6"
  }
 },
 "nbformat": 4,
 "nbformat_minor": 5
}
