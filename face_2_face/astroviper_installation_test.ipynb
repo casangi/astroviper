{
 "cells": [
  {
   "cell_type": "markdown",
   "id": "ed122f09-ead5-4a22-a70b-7702d556e7fe",
   "metadata": {},
   "source": [
    "# astroVIPER Installation Test"
   ]
  },
  {
   "cell_type": "markdown",
   "id": "5b79f2ac-e4c1-4a23-a789-159b4c931bb6",
   "metadata": {},
   "source": [
    "```python\n",
    "conda create --name astroviper python=3.11 --no-default-packages\n",
    "conda activate astroviper\n",
    "#Only on mac: conda install -c conda-forge python-casacore\n",
    "pip install astroviper\n",
    "```"
   ]
  },
  {
   "cell_type": "markdown",
   "id": "a0ca93e2-15a0-4f38-afee-a8bf7016b0ab",
   "metadata": {},
   "source": [
    "## Check installation"
   ]
  },
  {
   "cell_type": "code",
   "execution_count": null,
   "id": "e7850f0a-f46a-48cc-98b1-fde794af919a",
   "metadata": {},
   "outputs": [],
   "source": [
    "import os\n",
    "\n",
    "from importlib.metadata import version\n",
    "\n",
    "try:\n",
    "    import astroviper\n",
    "\n",
    "    print('astroVIPER version', version('astroviper'), 'already installed.')\n",
    "except ImportError as e:\n",
    "    print(e)\n",
    "    print('Installing astroVIPER')\n",
    "\n",
    "    os.system(\"pip install astroviper\")\n",
    "\n",
    "    import xradio\n",
    "    print('astroVIPER version', version('astroviper'), ' installed.')"
   ]
  },
  {
   "cell_type": "markdown",
   "id": "73e2e0cf-1729-41dc-8a2e-ee571f861f40",
   "metadata": {},
   "source": [
    "## Optional if casarc does not have path to casadata"
   ]
  },
  {
   "cell_type": "code",
   "execution_count": null,
   "id": "460b324f-891e-4508-af65-a9479bca121a",
   "metadata": {},
   "outputs": [],
   "source": [
    "'''\n",
    "import pkg_resources\n",
    "casa_data_dir = pkg_resources.resource_filename('casadata', '__data__')\n",
    "rc_file = open(os.path.expanduser(\"~/.casarc\"), \"a+\")  # append mode\n",
    "rc_file.write(\"\\n measures.directory: \" + casa_data_dir)\n",
    "rc_file.close()\n",
    "'''"
   ]
  },
  {
   "cell_type": "markdown",
   "id": "2682bb1c-c377-47f2-9faa-271108954d8f",
   "metadata": {},
   "source": [
    "## Setup Dask Cluster"
   ]
  },
  {
   "cell_type": "code",
   "execution_count": null,
   "id": "f4e50179-3486-4454-9036-ff55d24346fc",
   "metadata": {},
   "outputs": [],
   "source": [
    "import astroviper\n",
    "from astroviper.client import local_client\n",
    "\n",
    "viper_client = local_client(cores=2, memory_limit=\"4GB\", worker_log_parms=None)\n",
    "viper_client"
   ]
  },
  {
   "cell_type": "markdown",
   "id": "7eb7eaad-3316-4136-80bf-a5edc7c7b40b",
   "metadata": {},
   "source": [
    "## Download and convert dataset"
   ]
  },
  {
   "cell_type": "code",
   "execution_count": null,
   "id": "0be51722-3ef3-45ec-bce5-82ae892559d3",
   "metadata": {},
   "outputs": [],
   "source": [
    "from xradio.data.datasets import download\n",
    "\n",
    "infile = \"Antennae_North.cal.lsrk.split.ms\"\n",
    "outfile = \"Antennae_North.cal.lsrk.split.vis.zarr\"\n",
    "download(file=\"Antennae_North.cal.lsrk.split.ms\",source='dropbox')\n",
    "\n",
    "from xradio.vis.convert_msv2_to_processing_set import convert_msv2_to_processing_set\n",
    "\n",
    "partition_scheme=\"ddi_intent_field\"\n",
    "\n",
    "chunks_on_disk = {'frequency':3}\n",
    "convert_msv2_to_processing_set(infile=infile, outfile=outfile, \n",
    "                               partition_scheme=partition_scheme,\n",
    "                               parallel=False,overwrite=True,\n",
    "                               chunks_on_disk=chunks_on_disk)\n"
   ]
  },
  {
   "cell_type": "markdown",
   "id": "33a13d40-5654-4011-9467-d269fe601826",
   "metadata": {},
   "source": [
    "## Inspect Processing Set"
   ]
  },
  {
   "cell_type": "code",
   "execution_count": null,
   "id": "774b2011-8921-48fb-90dc-f56689862110",
   "metadata": {},
   "outputs": [],
   "source": [
    "ps_name = outfile\n",
    "\n",
    "from xradio.vis.read_processing_set import read_processing_set\n",
    "#sel_parms = {'xds_id':[0,1,2]}\n",
    "#fields = [\"NGC4038 - Antennae North\"]\n",
    "intents = [\"OBSERVE_TARGET#ON_SOURCE\"]\n",
    "fields = None\n",
    "ps = read_processing_set(ps_name,\n",
    "                        intents=intents,\n",
    "                        fields=fields)\n",
    "ps.summary()"
   ]
  },
  {
   "cell_type": "markdown",
   "id": "20b44df1-613b-4eaf-9c04-55bad4c5ced3",
   "metadata": {},
   "source": [
    "## Inspect a single ms_v4"
   ]
  },
  {
   "cell_type": "code",
   "execution_count": null,
   "id": "14c1b6da-4c81-4f97-9000-0f5784dfbc66",
   "metadata": {},
   "outputs": [],
   "source": [
    "ms_xds = ps[list(ps.keys())[0]] "
   ]
  },
  {
   "cell_type": "markdown",
   "id": "aa7e11c7-18f8-4174-a713-a020a8f91273",
   "metadata": {},
   "source": [
    "## Creating Parallel Coordinates for the Map"
   ]
  },
  {
   "cell_type": "markdown",
   "id": "f4d9f748-3a9b-4ffb-9543-ba71d13df497",
   "metadata": {},
   "source": [
    "### Example: Frequency Parallel Coordinate"
   ]
  },
  {
   "cell_type": "code",
   "execution_count": null,
   "id": "a33a781e-9b81-46c6-9c16-7510d0f4eae3",
   "metadata": {},
   "outputs": [],
   "source": [
    "from astroviper._concurrency._graph_tools import _make_parallel_coord\n",
    "\n",
    "parallel_coords = {}\n",
    "n_chunks=3\n",
    "parallel_coords['frequency'] = _make_parallel_coord(coord=ms_xds.frequency, n_chunks=n_chunks)\n",
    "parallel_coords['frequency']"
   ]
  },
  {
   "cell_type": "markdown",
   "id": "bbbea156-e5e0-45eb-8a40-ca1f11c97e1b",
   "metadata": {},
   "source": [
    "## Create a chunk function and map graph"
   ]
  },
  {
   "cell_type": "code",
   "execution_count": null,
   "id": "93a5da8a-6b40-4912-903b-e9c9ee196fbd",
   "metadata": {},
   "outputs": [],
   "source": [
    "from astroviper._concurrency._graph_tools import _map\n",
    "import dask\n",
    "\n",
    "def my_func(input_parms):\n",
    "    print('Keys in input parameters: ',list(input_parms.keys()))\n",
    "    print('Test_input:', input_parms['test_input'])\n",
    "    print('data_sel',input_parms['data_sel'])\n",
    "    print('chunk_coords',input_parms['chunk_coords'])\n",
    "    print('chunk_indices',input_parms['chunk_indices'])\n",
    "    print('chunk_id',input_parms['chunk_id'])\n",
    "    print('*****'*10)\n",
    "    return input_parms['test_input']\n",
    "\n",
    "#['test_input', 'input_data_name', 'viper_local_dir', 'date_time', 'data_sel', 'chunk_coords', 'chunk_indx', 'chunk_id', 'parallel_dims']\n",
    "input_parms= {}\n",
    "input_parms['test_input'] = 42\n",
    "\n",
    "sel_parms = {}\n",
    "sel_parms[\"fields\"] = [\"NGC4038 - Antennae North\"]\n",
    "sel_parms[\"intents\"] = [\"OBSERVE_TARGET#ON_SOURCE\"]\n",
    "graph = _map(\n",
    "    input_data_name = ps_name,\n",
    "    input_data_type = 'processing_set',\n",
    "    ps_sel_parms=sel_parms,\n",
    "    parallel_coords=parallel_coords,\n",
    "    func_chunk=my_func,\n",
    "    input_parms=input_parms,\n",
    "    client=None,\n",
    ")\n",
    "\n",
    "dask.visualize(graph)"
   ]
  },
  {
   "cell_type": "markdown",
   "id": "5f509ded-23dd-4c08-aabc-d19678a7bbb8",
   "metadata": {},
   "source": [
    "## Run the graph"
   ]
  },
  {
   "cell_type": "code",
   "execution_count": null,
   "id": "252e010a-b04f-43dd-8e4f-798d31267b71",
   "metadata": {},
   "outputs": [],
   "source": [
    "dask.compute(graph)"
   ]
  },
  {
   "cell_type": "markdown",
   "id": "291e9e20-8b36-4cb2-82b2-90fdfaf37a01",
   "metadata": {},
   "source": [
    "## Adding a reduce"
   ]
  },
  {
   "cell_type": "code",
   "execution_count": null,
   "id": "3286a1c5-cd4c-45e1-9ada-c14802538b82",
   "metadata": {},
   "outputs": [],
   "source": [
    "from astroviper._concurrency._graph_tools import _reduce\n",
    "\n",
    "def my_sum(input_1, input_2, input_parms):\n",
    "    return input_1 + input_2 + input_parms['test_input']\n",
    "\n",
    "input_parms= {}\n",
    "input_parms['test_input'] = 5\n",
    "graph_reduce = _reduce(graph, my_sum, input_parms)\n",
    "dask.visualize(graph_reduce)"
   ]
  },
  {
   "cell_type": "markdown",
   "id": "717022f0-fed9-461a-9943-ea6f31714249",
   "metadata": {},
   "source": [
    "## Run the graph"
   ]
  },
  {
   "cell_type": "code",
   "execution_count": null,
   "id": "199eb981-3852-40d6-915c-70cc63818677",
   "metadata": {},
   "outputs": [],
   "source": [
    "dask.compute(graph_reduce) "
   ]
  }
 ],
 "metadata": {
  "kernelspec": {
   "display_name": "Python 3 (ipykernel)",
   "language": "python",
   "name": "python3"
  },
  "language_info": {
   "codemirror_mode": {
    "name": "ipython",
    "version": 3
   },
   "file_extension": ".py",
   "mimetype": "text/x-python",
   "name": "python",
   "nbconvert_exporter": "python",
   "pygments_lexer": "ipython3",
   "version": "3.11.6"
  }
 },
 "nbformat": 4,
 "nbformat_minor": 5
}
